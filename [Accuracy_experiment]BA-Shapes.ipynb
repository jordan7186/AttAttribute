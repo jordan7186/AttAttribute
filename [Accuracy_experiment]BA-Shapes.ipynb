{
 "cells": [
  {
   "cell_type": "markdown",
   "metadata": {},
   "source": [
    "# Accuracy experiments with BA-Shapes"
   ]
  },
  {
   "cell_type": "markdown",
   "metadata": {},
   "source": [
    "## Load and visualize the data"
   ]
  },
  {
   "cell_type": "code",
   "execution_count": 53,
   "metadata": {},
   "outputs": [],
   "source": [
    "# Import the utility functions\n",
    "from attention_analysis_utils import (\n",
    "    get_attention_raw_dict,\n",
    "    process_attention_dict,\n",
    "    get_computation_graph,\n",
    "    get_nodes_per_level_from_comp_graph_full,\n",
    "    get_attention_raw_dict_multihead,\n",
    "    reindex_nodes_per_level,\n",
    "    translate_comp_graph,\n",
    "    get_att_dict_per_layer,\n",
    "    return_edges_in_k_hop,\n",
    "    get_ATTATTTRIBUTE_edge,\n",
    "    get_AVGATT_edge,\n",
    "    average_attention_heads,\n",
    ")\n",
    "\n",
    "from torch_geometric.utils import get_num_hops\n",
    "from visualization_utils import (\n",
    "    visualize_computation_graph,\n",
    ")\n",
    "import torch\n",
    "from typing import Tuple\n",
    "\n",
    "def get_edge_scores(\n",
    "    target_edge: Tuple, comp_graph, comp_graph_new, layer_att_dict, att\n",
    "):\n",
    "    assert type(target_edge) == tuple, \"target_edge must be a tuple\"\n",
    "    # Get ATTATTRIBUTE & ATTATTRIBUTE_sim scores\n",
    "    attattribute, attattribute_sim = get_ATTATTTRIBUTE_edge(\n",
    "        comp_graph=comp_graph,\n",
    "        comp_graph_new=comp_graph_new,\n",
    "        layer_att_dict=layer_att_dict,\n",
    "        target_edge=target_edge,\n",
    "        verbose=False,\n",
    "    )\n",
    "    # Get AVGATT scores\n",
    "    avgatt = get_AVGATT_edge(att=att, edge=target_edge)\n",
    "\n",
    "    return attattribute, attattribute_sim, avgatt\n",
    "\n",
    "def return_is_edge_list_BA_Shapes(edge_list):\n",
    "    ground_truth_edge_list = []\n",
    "    for edge in edge_list:\n",
    "        if edge[0] < 300 or edge[1] < 300:\n",
    "            ground_truth_edge_list.append(0)\n",
    "        elif edge[0] >= 300 and edge[1] >= 300:\n",
    "            ground_truth_edge_list.append(1)\n",
    "        else:\n",
    "            raise ValueError(\"Something wrong with the edge list\")\n",
    "    return ground_truth_edge_list\n",
    "\n",
    "\n",
    "def experiment_on_target_node(\n",
    "    target_idx: int, data, model, self_loops=True, multiheads=False,\n",
    "):\n",
    "    num_hops = get_num_hops(model)\n",
    "    num_layers = num_hops\n",
    "\n",
    "    edge_lists = return_edges_in_k_hop(\n",
    "        data=data, target_idx=target_idx, hop=2, self_loops=self_loops\n",
    "    )\n",
    "    # 3. For all edges in the k-hop neighborhood, we get the attribution scores\n",
    "    # according to ATTATTRIBUTE, ATTATTRIBUTE_sim, and AVGATT.\n",
    "    # First, prepare ingredients for analysis\n",
    "\n",
    "    num_layers = get_num_hops(model)\n",
    "    if multiheads:\n",
    "        att_dict_raw = get_attention_raw_dict_multihead(model, data)\n",
    "    else:\n",
    "        att_dict_raw = get_attention_raw_dict(model, data)\n",
    "    att_dict = process_attention_dict(att_dict_raw)\n",
    "    comp_graph = get_computation_graph(\n",
    "        edge_index=data.edge_index, k=num_layers, target_idx=target_idx\n",
    "    )\n",
    "    (\n",
    "        nodes_per_level_original,\n",
    "        num_nodes_per_level,\n",
    "        true_node_label,\n",
    "    ) = get_nodes_per_level_from_comp_graph_full(comp_graph=comp_graph)\n",
    "    nodes_per_level_new = reindex_nodes_per_level(\n",
    "        nodes_per_level_original, num_nodes_per_level\n",
    "    )\n",
    "    comp_graph_new = translate_comp_graph(\n",
    "        comp_graph=comp_graph,\n",
    "        nodes_per_level_new=nodes_per_level_new,\n",
    "        nodes_per_level_original=nodes_per_level_original,\n",
    "    )\n",
    "    layer_att_dict = get_att_dict_per_layer(\n",
    "        comp_graph=comp_graph, comp_graph_new=comp_graph_new, att_dict=att_dict\n",
    "    )\n",
    "\n",
    "    # Get results for all edges in the k-hop neighborhood\n",
    "    attattribute_list, attattribute_sim_list, avgatt_list = [], [], []\n",
    "    # Get the attention weights again\n",
    "    with torch.no_grad():\n",
    "        model(data.x, data.edge_index, return_att=True)\n",
    "        att = model.att \n",
    "        att = average_attention_heads(att)\n",
    "        model.att = att\n",
    "\n",
    "    for current_edge in edge_lists:\n",
    "        attattribute, attattribute_sim, avgatt = get_edge_scores(\n",
    "            target_edge=tuple(current_edge),\n",
    "            comp_graph=comp_graph,\n",
    "            comp_graph_new=comp_graph_new,\n",
    "            layer_att_dict=layer_att_dict,\n",
    "            att=att,\n",
    "        )\n",
    "        attattribute_list.append(attattribute)\n",
    "        attattribute_sim_list.append(attattribute_sim)\n",
    "        avgatt_list.append(avgatt)\n",
    "\n",
    "    ground_truth_edge_list = return_is_edge_list_BA_Shapes(edge_lists)\n",
    "\n",
    "    return (\n",
    "        attattribute_list,\n",
    "        attattribute_sim_list,\n",
    "        avgatt_list,\n",
    "        ground_truth_edge_list,\n",
    "    )"
   ]
  },
  {
   "cell_type": "markdown",
   "metadata": {},
   "source": [
    "GAT 2 layer 1 head"
   ]
  },
  {
   "cell_type": "code",
   "execution_count": 19,
   "metadata": {},
   "outputs": [],
   "source": [
    "import torch\n",
    "\n",
    "dataset_name = 'BAShapes'\n",
    "config = '2L1H'\n",
    "\n",
    "# Load the data\n",
    "data = torch.load(f'/workspace/Datasets/{dataset_name}.pt',map_location ='cpu')\n",
    "# Load the model\n",
    "results = torch.load(f'/workspace/Experimental_Artifacts/Faithfulness_GAT_{dataset_name}_{config}_Attributions.pt',map_location ='cpu')"
   ]
  },
  {
   "cell_type": "code",
   "execution_count": 20,
   "metadata": {},
   "outputs": [],
   "source": [
    "# Load experiments from local\n",
    "\n",
    "attattribute_list = results['attattribute']\n",
    "attattribute_sim_list = results['attattribute_sim']\n",
    "avgatt_list = results['avgatt']\n",
    "ground_truth_edge_list = torch.load(\n",
    "    f\"/workspace/Experimental_Results_old/BA-Shapes_GAT_BAShapes_3L1H_ground_truth_edge_list_Accuracy_test.pt\"\n",
    ")"
   ]
  },
  {
   "cell_type": "code",
   "execution_count": 21,
   "metadata": {},
   "outputs": [
    {
     "name": "stdout",
     "output_type": "stream",
     "text": [
      "ROC AUC for ATTATTRIBUTE / ATTATTRIBUTE_SIM / AVGATT / RANDOM\n",
      "0.7419, 0.7142, 0.8045, 0.5036\n"
     ]
    }
   ],
   "source": [
    "from sklearn.metrics import roc_auc_score\n",
    "\n",
    "ground_truth_edge_list = torch.Tensor(ground_truth_edge_list)\n",
    "# Also include a random baseline\n",
    "random_attr = torch.rand(ground_truth_edge_list.shape)\n",
    "random_attr_roc_auc = roc_auc_score(ground_truth_edge_list, random_attr)\n",
    "attattribute_roc_auc = roc_auc_score(ground_truth_edge_list, attattribute_list)\n",
    "attattribute_sim_roc_auc = roc_auc_score(ground_truth_edge_list, attattribute_sim_list)\n",
    "avgatt_roc_auc = roc_auc_score(ground_truth_edge_list, avgatt_list)\n",
    "\n",
    "# Print results\n",
    "print(\"ROC AUC for ATTATTRIBUTE / ATTATTRIBUTE_SIM / AVGATT / RANDOM\")\n",
    "print(f\"{attattribute_roc_auc:.4f}, {attattribute_sim_roc_auc:.4f}, {avgatt_roc_auc:.4f}, {random_attr_roc_auc:.4f}\")"
   ]
  },
  {
   "cell_type": "markdown",
   "metadata": {},
   "source": [
    "GAT 2 layer 2 head"
   ]
  },
  {
   "cell_type": "code",
   "execution_count": 22,
   "metadata": {},
   "outputs": [],
   "source": [
    "import torch\n",
    "\n",
    "dataset_name = 'BAShapes'\n",
    "config = '2L2H'\n",
    "\n",
    "# Load the data\n",
    "data = torch.load(f'/workspace/Datasets/{dataset_name}.pt',map_location ='cpu')\n",
    "# Load the model\n",
    "results = torch.load(f'/workspace/Experimental_Artifacts/Faithfulness_GAT_{dataset_name}_{config}_Attributions.pt',map_location ='cpu')"
   ]
  },
  {
   "cell_type": "code",
   "execution_count": 23,
   "metadata": {},
   "outputs": [],
   "source": [
    "# Load experiments from local\n",
    "\n",
    "attattribute_list = results['attattribute']\n",
    "attattribute_sim_list = results['attattribute_sim']\n",
    "avgatt_list = results['avgatt']\n",
    "ground_truth_edge_list = torch.load(\n",
    "    f\"/workspace/Experimental_Results_old/BA-Shapes_GAT_BAShapes_3L2H_ground_truth_edge_list_Accuracy_test.pt\"\n",
    ")"
   ]
  },
  {
   "cell_type": "code",
   "execution_count": 24,
   "metadata": {},
   "outputs": [
    {
     "name": "stdout",
     "output_type": "stream",
     "text": [
      "ROC AUC for ATTATTRIBUTE / ATTATTRIBUTE_SIM / AVGATT / RANDOM\n",
      "0.7392, 0.7026, 0.7587, 0.4938\n"
     ]
    }
   ],
   "source": [
    "from sklearn.metrics import roc_auc_score\n",
    "\n",
    "ground_truth_edge_list = torch.Tensor(ground_truth_edge_list)\n",
    "# Also include a random baseline\n",
    "random_attr = torch.rand(ground_truth_edge_list.shape)\n",
    "random_attr_roc_auc = roc_auc_score(ground_truth_edge_list, random_attr)\n",
    "attattribute_roc_auc = roc_auc_score(ground_truth_edge_list, attattribute_list)\n",
    "attattribute_sim_roc_auc = roc_auc_score(ground_truth_edge_list, attattribute_sim_list)\n",
    "avgatt_roc_auc = roc_auc_score(ground_truth_edge_list, avgatt_list)\n",
    "\n",
    "# Print results\n",
    "print(\"ROC AUC for ATTATTRIBUTE / ATTATTRIBUTE_SIM / AVGATT / RANDOM\")\n",
    "print(f\"{attattribute_roc_auc:.4f}, {attattribute_sim_roc_auc:.4f}, {avgatt_roc_auc:.4f}, {random_attr_roc_auc:.4f}\")"
   ]
  },
  {
   "cell_type": "markdown",
   "metadata": {},
   "source": [
    "GAT 2 layer 4 head"
   ]
  },
  {
   "cell_type": "code",
   "execution_count": 25,
   "metadata": {},
   "outputs": [],
   "source": [
    "import torch\n",
    "\n",
    "dataset_name = 'BAShapes'\n",
    "config = '2L4H'\n",
    "\n",
    "# Load the data\n",
    "data = torch.load(f'/workspace/Datasets/{dataset_name}.pt',map_location ='cpu')\n",
    "# Load the model\n",
    "results = torch.load(f'/workspace/Experimental_Artifacts/Faithfulness_GAT_{dataset_name}_{config}_Attributions.pt',map_location ='cpu')"
   ]
  },
  {
   "cell_type": "code",
   "execution_count": 26,
   "metadata": {},
   "outputs": [],
   "source": [
    "# Load experiments from local\n",
    "\n",
    "attattribute_list = results['attattribute']\n",
    "attattribute_sim_list = results['attattribute_sim']\n",
    "avgatt_list = results['avgatt']\n",
    "ground_truth_edge_list = torch.load(\n",
    "    f\"/workspace/Experimental_Results_old/BA-Shapes_GAT_BAShapes_3L4H_ground_truth_edge_list_Accuracy_test.pt\"\n",
    ")"
   ]
  },
  {
   "cell_type": "code",
   "execution_count": 27,
   "metadata": {},
   "outputs": [
    {
     "name": "stdout",
     "output_type": "stream",
     "text": [
      "ROC AUC for ATTATTRIBUTE / ATTATTRIBUTE_SIM / AVGATT / RANDOM\n",
      "0.7780, 0.7258, 0.8347, 0.4940\n"
     ]
    }
   ],
   "source": [
    "from sklearn.metrics import roc_auc_score\n",
    "\n",
    "ground_truth_edge_list = torch.Tensor(ground_truth_edge_list)\n",
    "# Also include a random baseline\n",
    "random_attr = torch.rand(ground_truth_edge_list.shape)\n",
    "random_attr_roc_auc = roc_auc_score(ground_truth_edge_list, random_attr)\n",
    "attattribute_roc_auc = roc_auc_score(ground_truth_edge_list, attattribute_list)\n",
    "attattribute_sim_roc_auc = roc_auc_score(ground_truth_edge_list, attattribute_sim_list)\n",
    "avgatt_roc_auc = roc_auc_score(ground_truth_edge_list, avgatt_list)\n",
    "\n",
    "# Print results\n",
    "print(\"ROC AUC for ATTATTRIBUTE / ATTATTRIBUTE_SIM / AVGATT / RANDOM\")\n",
    "print(f\"{attattribute_roc_auc:.4f}, {attattribute_sim_roc_auc:.4f}, {avgatt_roc_auc:.4f}, {random_attr_roc_auc:.4f}\")"
   ]
  },
  {
   "cell_type": "markdown",
   "metadata": {},
   "source": [
    "GAT 2 layer 8 head"
   ]
  },
  {
   "cell_type": "code",
   "execution_count": 28,
   "metadata": {},
   "outputs": [],
   "source": [
    "import torch\n",
    "\n",
    "dataset_name = 'BAShapes'\n",
    "config = '2L8H'\n",
    "\n",
    "# Load the data\n",
    "data = torch.load(f'/workspace/Datasets/{dataset_name}.pt',map_location ='cpu')\n",
    "# Load the model\n",
    "results = torch.load(f'/workspace/Experimental_Artifacts/Faithfulness_GAT_{dataset_name}_{config}_Attributions.pt',map_location ='cpu')"
   ]
  },
  {
   "cell_type": "code",
   "execution_count": 29,
   "metadata": {},
   "outputs": [],
   "source": [
    "# Load experiments from local\n",
    "\n",
    "attattribute_list = results['attattribute']\n",
    "attattribute_sim_list = results['attattribute_sim']\n",
    "avgatt_list = results['avgatt']\n",
    "ground_truth_edge_list = torch.load(\n",
    "    f\"/workspace/Experimental_Results_old/BA-Shapes_GAT_BAShapes_3L8H_ground_truth_edge_list_Accuracy_test.pt\"\n",
    ")"
   ]
  },
  {
   "cell_type": "code",
   "execution_count": 30,
   "metadata": {},
   "outputs": [
    {
     "name": "stdout",
     "output_type": "stream",
     "text": [
      "ROC AUC for ATTATTRIBUTE / ATTATTRIBUTE_SIM / AVGATT / RANDOM\n",
      "0.7334, 0.6996, 0.7119, 0.4986\n"
     ]
    }
   ],
   "source": [
    "from sklearn.metrics import roc_auc_score\n",
    "\n",
    "ground_truth_edge_list = torch.Tensor(ground_truth_edge_list)\n",
    "# Also include a random baseline\n",
    "random_attr = torch.rand(ground_truth_edge_list.shape)\n",
    "random_attr_roc_auc = roc_auc_score(ground_truth_edge_list, random_attr)\n",
    "attattribute_roc_auc = roc_auc_score(ground_truth_edge_list, attattribute_list)\n",
    "attattribute_sim_roc_auc = roc_auc_score(ground_truth_edge_list, attattribute_sim_list)\n",
    "avgatt_roc_auc = roc_auc_score(ground_truth_edge_list, avgatt_list)\n",
    "\n",
    "# Print results\n",
    "print(\"ROC AUC for ATTATTRIBUTE / ATTATTRIBUTE_SIM / AVGATT / RANDOM\")\n",
    "print(f\"{attattribute_roc_auc:.4f}, {attattribute_sim_roc_auc:.4f}, {avgatt_roc_auc:.4f}, {random_attr_roc_auc:.4f}\")"
   ]
  },
  {
   "cell_type": "markdown",
   "metadata": {},
   "source": [
    "GNNExplainer (2L1H)"
   ]
  },
  {
   "cell_type": "code",
   "execution_count": 31,
   "metadata": {},
   "outputs": [],
   "source": [
    "import torch\n",
    "from torch_geometric.utils import k_hop_subgraph\n",
    "\n",
    "dataset_name = 'BAShapes'\n",
    "model_name = 'GAT_BAShapes_3L1H'\n",
    "\n",
    "# Load the data\n",
    "data = torch.load(f'/workspace/Datasets/{dataset_name}.pt',map_location ='cpu')\n",
    "# Load the model\n",
    "model = torch.load(f'/workspace/Models/GAT_BAShapes_2L1H.pt',map_location ='cpu')\n",
    "model.eval()\n",
    "# Get the attention weights\n",
    "with torch.no_grad():\n",
    "    out = model(data.x, data.edge_index, return_att=True)\n",
    "    att = model.att"
   ]
  },
  {
   "cell_type": "code",
   "execution_count": 38,
   "metadata": {},
   "outputs": [],
   "source": [
    "from tqdm import tqdm\n",
    "from torch_geometric.explain import Explainer, GNNExplainer\n",
    "\n",
    "explainer = Explainer(\n",
    "    model=model,\n",
    "    algorithm=GNNExplainer(epochs=100),\n",
    "    explanation_type='phenomenon',\n",
    "    node_mask_type='attributes',\n",
    "    edge_mask_type='object',\n",
    "    model_config=dict(\n",
    "        mode='multiclass_classification',\n",
    "        task_level='node',\n",
    "        return_type='raw',\n",
    "    ),\n",
    ")\n",
    "\n"
   ]
  },
  {
   "cell_type": "code",
   "execution_count": 39,
   "metadata": {},
   "outputs": [
    {
     "name": "stderr",
     "output_type": "stream",
     "text": [
      "                                                                  "
     ]
    },
    {
     "name": "stdout",
     "output_type": "stream",
     "text": [
      "Mean ROC AUC (explanation type phenomenon): 0.6515\n"
     ]
    },
    {
     "name": "stderr",
     "output_type": "stream",
     "text": [
      "\r"
     ]
    }
   ],
   "source": [
    "# Explanation ROC AUC over all test nodes:\n",
    "targets, preds = [], []\n",
    "node_indices = range(300, 700)\n",
    "for node_index in tqdm(node_indices, leave=False, desc='Train Explainer'):\n",
    "    target = data.y\n",
    "    explanation = explainer(data.x, data.edge_index, index=node_index,\n",
    "                            target=target)\n",
    "\n",
    "    _, _, _, hard_edge_mask = k_hop_subgraph(node_index, num_hops=2,\n",
    "                                            edge_index=data.edge_index)\n",
    "\n",
    "    targets.append(data.edge_mask[hard_edge_mask].cpu())\n",
    "    preds.append(explanation.edge_mask[hard_edge_mask].cpu())\n",
    "\n",
    "auc = roc_auc_score(torch.cat(targets), torch.cat(preds))\n",
    "print(f'Mean ROC AUC (explanation type phenomenon): {auc:.4f}')"
   ]
  },
  {
   "cell_type": "code",
   "execution_count": 42,
   "metadata": {},
   "outputs": [
    {
     "name": "stderr",
     "output_type": "stream",
     "text": [
      "                                                                   "
     ]
    },
    {
     "name": "stdout",
     "output_type": "stream",
     "text": [
      "Mean ROC AUC (explanation type phenomenon): 0.5174\n"
     ]
    },
    {
     "name": "stderr",
     "output_type": "stream",
     "text": [
      "\r"
     ]
    }
   ],
   "source": [
    "from tqdm import tqdm\n",
    "from torch_geometric.explain import Explainer, PGExplainer\n",
    "\n",
    "explainer = Explainer(\n",
    "    model=model,\n",
    "    algorithm=PGExplainer(epochs=30, lr=0.01),\n",
    "    explanation_type='phenomenon',\n",
    "    # node_mask_type='attributes',\n",
    "    edge_mask_type='object',\n",
    "    model_config=dict(\n",
    "        mode='multiclass_classification',\n",
    "        task_level='node',\n",
    "        return_type='raw',\n",
    "    ),\n",
    ")\n",
    "\n",
    "for epoch in range(30):\n",
    "    for index in range(300, 700):  # Indices to train against.\n",
    "        loss = explainer.algorithm.train(epoch, model, data.x, data.edge_index,\n",
    "                                        target=target, index=index)\n",
    "        \n",
    "# Explanation ROC AUC over all test nodes:\n",
    "targets, preds = [], []\n",
    "node_indices = range(300, 700)\n",
    "for node_index in tqdm(node_indices, leave=False, desc='Train Explainer'):\n",
    "    target = data.y\n",
    "    explanation = explainer(data.x, data.edge_index, index=node_index,\n",
    "                            target=target)\n",
    "\n",
    "    _, _, _, hard_edge_mask = k_hop_subgraph(node_index, num_hops=2,\n",
    "                                            edge_index=data.edge_index)\n",
    "\n",
    "    targets.append(data.edge_mask[hard_edge_mask].cpu())\n",
    "    preds.append(explanation.edge_mask[hard_edge_mask].cpu())\n",
    "\n",
    "auc_pgexpl = roc_auc_score(torch.cat(targets), torch.cat(preds))\n",
    "print(f'Mean ROC AUC (explanation type phenomenon): {auc_pgexpl:.4f}')"
   ]
  },
  {
   "cell_type": "code",
   "execution_count": 43,
   "metadata": {},
   "outputs": [],
   "source": [
    "# auc_pgexpl"
   ]
  }
 ],
 "metadata": {
  "kernelspec": {
   "display_name": "Python 3",
   "language": "python",
   "name": "python3"
  },
  "language_info": {
   "codemirror_mode": {
    "name": "ipython",
    "version": 3
   },
   "file_extension": ".py",
   "mimetype": "text/x-python",
   "name": "python",
   "nbconvert_exporter": "python",
   "pygments_lexer": "ipython3",
   "version": "3.10.12"
  },
  "orig_nbformat": 4
 },
 "nbformat": 4,
 "nbformat_minor": 2
}
