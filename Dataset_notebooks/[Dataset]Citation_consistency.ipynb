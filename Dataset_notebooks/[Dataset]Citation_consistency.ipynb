{
 "cells": [
  {
   "cell_type": "markdown",
   "metadata": {},
   "source": [
    "# Train GAT models for Cora, Citeseer and Pubmed datasets"
   ]
  },
  {
   "cell_type": "code",
   "execution_count": 1,
   "metadata": {},
   "outputs": [],
   "source": [
    "import torch\n",
    "import torch.nn.functional as F\n",
    "from models import GAT_L2_intervention\n",
    "\n",
    "def train(model, optimizer, data, epochs):\n",
    "    model.train()\n",
    "    criterion = torch.nn.CrossEntropyLoss()\n",
    "\n",
    "    for _ in range(epochs):\n",
    "        optimizer.zero_grad()\n",
    "        out = model(data.x, data.edge_index)\n",
    "        loss = criterion(out[data.train_mask], data.y[data.train_mask])\n",
    "        acc = (out[data.train_mask].argmax(dim=1) == data.y[data.train_mask]).sum().item() / data.train_mask.sum().item()\n",
    "        loss.backward()\n",
    "        optimizer.step()\n",
    "\n",
    "    return model, loss, acc\n",
    "\n",
    "@torch.no_grad()\n",
    "def test(model, data):\n",
    "    model.eval()\n",
    "    criterion = torch.nn.CrossEntropyLoss()\n",
    "    x, edge_index, y = data.x, data.edge_index, data.y\n",
    "    out = model(x, edge_index)\n",
    "    loss = criterion(out[data.test_mask], y[data.test_mask])\n",
    "    acc = (out[data.test_mask].argmax(dim=1) == y[data.test_mask]).sum().item() / data.test_mask.sum().item()\n",
    "    return loss, acc"
   ]
  },
  {
   "cell_type": "code",
   "execution_count": 2,
   "metadata": {},
   "outputs": [],
   "source": [
    "def train_model_weight_decay(data, weight_decay):\n",
    "    out_channels = data.y.max().item() + 1\n",
    "    model = GAT_L2_intervention(in_channels=data.num_node_features, \n",
    "                                hidden_channels=64, \n",
    "                                out_channels=out_channels, \n",
    "                                heads=1)\n",
    "    # Define the number of epochs\n",
    "    epochs = 60\n",
    "    # Define the learning rate\n",
    "    lr = 0.001\n",
    "    # Prepare the optimizer\n",
    "    optimizer = torch.optim.Adam(model.parameters(), lr=lr, weight_decay=weight_decay)\n",
    "    # Train the models\n",
    "    model, loss, acc = train(model=model, data=data, optimizer=optimizer, epochs=epochs)\n",
    "    # Test the models\n",
    "    test_loss, test_acc = test(model=model, data=data)\n",
    "    # Print the results\n",
    "    print(f\"Model: GAT_Cora_2L1H_weight_decay_{weight_decay}, Loss: {loss:.4f}, Train Accuracy: {acc:.4f}, Test Loss: {test_loss:.4f}, Test Accuracy: {test_acc:.4f}\")\n",
    "    torch.save(model, f'/workspace/GAT_Cora_2L1H_weight_decay_{weight_decay}.pt')\n",
    "\n",
    "def train_model_dropout(data, dropout):\n",
    "    out_channels = data.y.max().item() + 1\n",
    "    model = GAT_L2_intervention(in_channels=data.num_node_features, \n",
    "                                hidden_channels=64, \n",
    "                                out_channels=out_channels, \n",
    "                                heads=1,\n",
    "                                dropout=dropout)\n",
    "    # Define the number of epochs\n",
    "    epochs = 60\n",
    "    # Define the learning rate\n",
    "    lr = 0.001\n",
    "    # Prepare the optimizer\n",
    "    optimizer = torch.optim.Adam(model.parameters(), lr=lr, weight_decay=0)\n",
    "    # Train the models\n",
    "    model, loss, acc = train(model=model, data=data, optimizer=optimizer, epochs=epochs)\n",
    "    # Test the models\n",
    "    test_loss, test_acc = test(model=model, data=data)\n",
    "    # Print the results\n",
    "    print(f\"Model: GAT_Cora_2L1H_dropout_{dropout}, Loss: {loss:.4f}, Train Accuracy: {acc:.4f}, Test Loss: {test_loss:.4f}, Test Accuracy: {test_acc:.4f}\")\n",
    "    torch.save(model, f'/workspace/GAT_Cora_2L1H_dropout_{dropout}.pt')\n",
    "\n",
    "def train_model_general_hyperparameters(data, hidden_channels):\n",
    "    out_channels = data.y.max().item() + 1\n",
    "    model = GAT_L2_intervention(in_channels=data.num_node_features, \n",
    "                                hidden_channels=hidden_channels, \n",
    "                                out_channels=out_channels, \n",
    "                                heads=1)\n",
    "    # Define the number of epochs\n",
    "    epochs = 60\n",
    "    # Define the learning rate\n",
    "    lr = 0.001\n",
    "    # Prepare the optimizer\n",
    "    optimizer = torch.optim.Adam(model.parameters(), lr=lr, weight_decay=0)\n",
    "    # Train the models\n",
    "    model, loss, acc = train(model=model, data=data, optimizer=optimizer, epochs=epochs)\n",
    "    # Test the models\n",
    "    test_loss, test_acc = test(model=model, data=data)\n",
    "    # Print the results\n",
    "    print(f\"Model: GAT_Cora_2L1H_hidden_channels_{hidden_channels}, Loss: {loss:.4f}, Train Accuracy: {acc:.4f}, Test Loss: {test_loss:.4f}, Test Accuracy: {test_acc:.4f}\")\n",
    "    torch.save(model, f'/workspace/GAT_Cora_2L1H_hidden_channels_{hidden_channels}.pt')"
   ]
  },
  {
   "cell_type": "markdown",
   "metadata": {},
   "source": [
    "## 1. Load Cora"
   ]
  },
  {
   "cell_type": "code",
   "execution_count": 3,
   "metadata": {},
   "outputs": [],
   "source": [
    "import torch\n",
    "\n",
    "data = torch.load('/workspace/Cora.pt', map_location=\"cpu\")"
   ]
  },
  {
   "cell_type": "markdown",
   "metadata": {},
   "source": [
    "## 2. Configurations"
   ]
  },
  {
   "cell_type": "markdown",
   "metadata": {},
   "source": [
    "### 1. Regularizations\n",
    "\n",
    "Weight decay: 0, 0.0001, 0.0005, 0.001, 0.005, 0.01\n",
    "\n",
    "Dropout: 0, 0.2, 0.4, 0.6, 0.8"
   ]
  },
  {
   "cell_type": "code",
   "execution_count": 9,
   "metadata": {},
   "outputs": [
    {
     "name": "stdout",
     "output_type": "stream",
     "text": [
      "Model: GAT_Cora_2L1H_weight_decay_0, Loss: 1.7281, Train Accuracy: 0.8986, Test Loss: 1.7639, Test Accuracy: 0.8162\n",
      "Model: GAT_Cora_2L1H_weight_decay_0.0001, Loss: 1.7402, Train Accuracy: 0.9000, Test Loss: 1.7683, Test Accuracy: 0.8386\n",
      "Model: GAT_Cora_2L1H_weight_decay_0.0005, Loss: 1.7782, Train Accuracy: 0.8886, Test Loss: 1.8053, Test Accuracy: 0.8352\n",
      "Model: GAT_Cora_2L1H_weight_decay_0.001, Loss: 1.8046, Train Accuracy: 0.8857, Test Loss: 1.8224, Test Accuracy: 0.7973\n",
      "Model: GAT_Cora_2L1H_weight_decay_0.005, Loss: 1.9151, Train Accuracy: 0.8529, Test Loss: 1.9176, Test Accuracy: 0.8068\n",
      "Model: GAT_Cora_2L1H_weight_decay_0.01, Loss: 1.9293, Train Accuracy: 0.8057, Test Loss: 1.9315, Test Accuracy: 0.7764\n"
     ]
    }
   ],
   "source": [
    "# for weight_decay in [0, 0.0001, 0.0005, 0.001, 0.005, 0.01]:\n",
    "#     train_model_weight_decay(data=data, weight_decay=weight_decay)"
   ]
  },
  {
   "cell_type": "code",
   "execution_count": 10,
   "metadata": {},
   "outputs": [
    {
     "name": "stdout",
     "output_type": "stream",
     "text": [
      "Model: GAT_Cora_2L1H_dropout_0, Loss: 1.7304, Train Accuracy: 0.9057, Test Loss: 1.7588, Test Accuracy: 0.8332\n",
      "Model: GAT_Cora_2L1H_dropout_0.2, Loss: 1.7311, Train Accuracy: 0.8986, Test Loss: 1.7573, Test Accuracy: 0.8401\n",
      "Model: GAT_Cora_2L1H_dropout_0.4, Loss: 1.7380, Train Accuracy: 0.8829, Test Loss: 1.7713, Test Accuracy: 0.8267\n",
      "Model: GAT_Cora_2L1H_dropout_0.6, Loss: 1.7505, Train Accuracy: 0.8700, Test Loss: 1.7794, Test Accuracy: 0.8262\n",
      "Model: GAT_Cora_2L1H_dropout_0.8, Loss: 1.7645, Train Accuracy: 0.7886, Test Loss: 1.7950, Test Accuracy: 0.8237\n"
     ]
    }
   ],
   "source": [
    "# for dropout in [0, 0.2, 0.4, 0.6, 0.8]:\n",
    "#     train_model_dropout(data=data, dropout=dropout)"
   ]
  },
  {
   "cell_type": "code",
   "execution_count": 4,
   "metadata": {},
   "outputs": [
    {
     "name": "stdout",
     "output_type": "stream",
     "text": [
      "Model: GAT_Cora_2L1H_hidden_channels_32, Loss: 1.8122, Train Accuracy: 0.8886, Test Loss: 1.8312, Test Accuracy: 0.8391\n",
      "Model: GAT_Cora_2L1H_hidden_channels_64, Loss: 1.7340, Train Accuracy: 0.9043, Test Loss: 1.7695, Test Accuracy: 0.8386\n",
      "Model: GAT_Cora_2L1H_hidden_channels_128, Loss: 1.5905, Train Accuracy: 0.9086, Test Loss: 1.6440, Test Accuracy: 0.8471\n",
      "Model: GAT_Cora_2L1H_hidden_channels_256, Loss: 1.3728, Train Accuracy: 0.8971, Test Loss: 1.4469, Test Accuracy: 0.8376\n"
     ]
    }
   ],
   "source": [
    "# for hidden_channels in [32, 64, 128, 256]:\n",
    "#     train_model_general_hyperparameters(data=data, hidden_channels=hidden_channels)"
   ]
  },
  {
   "cell_type": "code",
   "execution_count": null,
   "metadata": {},
   "outputs": [],
   "source": []
  }
 ],
 "metadata": {
  "kernelspec": {
   "display_name": "Python 3",
   "language": "python",
   "name": "python3"
  },
  "language_info": {
   "codemirror_mode": {
    "name": "ipython",
    "version": 3
   },
   "file_extension": ".py",
   "mimetype": "text/x-python",
   "name": "python",
   "nbconvert_exporter": "python",
   "pygments_lexer": "ipython3",
   "version": "3.10.12"
  },
  "orig_nbformat": 4
 },
 "nbformat": 4,
 "nbformat_minor": 2
}
