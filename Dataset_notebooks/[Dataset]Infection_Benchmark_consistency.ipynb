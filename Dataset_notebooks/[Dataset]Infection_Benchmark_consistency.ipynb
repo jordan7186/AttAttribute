{
 "cells": [
  {
   "attachments": {},
   "cell_type": "markdown",
   "metadata": {},
   "source": [
    "## 1. Load infection benchmarks (Only use Infection_50002d_sp.pt)"
   ]
  },
  {
   "cell_type": "code",
   "execution_count": 1,
   "metadata": {},
   "outputs": [],
   "source": [
    "import torch\n",
    "\n",
    "data = torch.load('/workspace/Infection_50002d_sp.pt', map_location=\"cpu\")"
   ]
  },
  {
   "cell_type": "markdown",
   "metadata": {},
   "source": [
    "## 2. Configurations"
   ]
  },
  {
   "cell_type": "markdown",
   "metadata": {},
   "source": [
    "### 1. Regularizations\n",
    "\n",
    "Weight decay: 0, 0.0001, 0.0005, 0.001, 0.005, 0.01\n",
    "\n",
    "Dropout: 0, 0.2, 0.4, 0.6, 0.8"
   ]
  },
  {
   "cell_type": "code",
   "execution_count": 2,
   "metadata": {},
   "outputs": [],
   "source": [
    "from models import GAT_L2_intervention"
   ]
  },
  {
   "cell_type": "code",
   "execution_count": 4,
   "metadata": {},
   "outputs": [],
   "source": [
    "# Split the dataset into training and test sets with a 50:50 ratio\n",
    "# Use the same random seed for reproducibility\n",
    "# Use scikit-learn's train_test_split function\n",
    "# Split by defining the node indices\n",
    "from sklearn.model_selection import train_test_split\n",
    "\n",
    "# Define the node indices\n",
    "node_indices = torch.arange(data.num_nodes)\n",
    "# Split the node indices into training and test sets\n",
    "train_indices, test_indices = train_test_split(node_indices, test_size=0.5, random_state=42)\n",
    "# Define the training and test masks\n",
    "train_mask = torch.zeros(data.num_nodes, dtype=torch.bool)\n",
    "test_mask = torch.zeros(data.num_nodes, dtype=torch.bool)\n",
    "# Set the training and test masks\n",
    "train_mask[train_indices] = True\n",
    "test_mask[test_indices] = True\n",
    "# Set the training and test masks\n",
    "data.train_mask = train_mask\n",
    "data.test_mask = test_mask"
   ]
  },
  {
   "cell_type": "code",
   "execution_count": 7,
   "metadata": {},
   "outputs": [],
   "source": [
    "\"\"\"\n",
    "Define a function that trains the GAT model for a given number of epochs.\n",
    "The function takes as input the model, the dataset, the optimizer, the number of epochs.\n",
    "We perform full-batch training.\n",
    "The function returns the trained model and the training loss, and the training accuracy.\n",
    "\"\"\"\n",
    "def train(model, data, optimizer, epochs: int):\n",
    "    # Set the model to training mode\n",
    "    model.train()\n",
    "    # Define the criterion\n",
    "    criterion = torch.nn.CrossEntropyLoss()\n",
    "    # Full batch training\n",
    "    for _ in range(epochs):\n",
    "        # Zero out the gradients\n",
    "        optimizer.zero_grad()\n",
    "        # Perform the forward pass\n",
    "        out = model(data.x, data.edge_index)\n",
    "        # Compute the loss\n",
    "        loss = criterion(out[data.train_mask], data.y[data.train_mask])\n",
    "        # Compute the accuracy\n",
    "        acc = (out[data.train_mask].argmax(dim=1) == data.y[data.train_mask]).sum().item() / data.train_mask.sum().item()\n",
    "        # Perform the backward pass\n",
    "        loss.backward()\n",
    "        # Perform the optimization step\n",
    "        optimizer.step()\n",
    "    return model, loss, acc\n",
    "\n",
    "\"\"\"\n",
    "Make a function that tests the GAT model.\n",
    "Use the test mask to only compute the loss and accuracy for the test nodes.\n",
    "The function takes as input the model and the dataset.\n",
    "\"\"\"\n",
    "@torch.no_grad()\n",
    "def test(model, data):\n",
    "    # Set the model to evaluation mode\n",
    "    model.eval()\n",
    "    # Define the test loss\n",
    "    loss = 0\n",
    "    # Define the test accuracy\n",
    "    acc = 0\n",
    "    # Define the criterion\n",
    "    criterion = torch.nn.CrossEntropyLoss()\n",
    "    # Get the test data\n",
    "    x, edge_index, y = data.x, data.edge_index, data.y\n",
    "    # Get the output of the model\n",
    "    out = model(x, edge_index)\n",
    "    # Compute the loss\n",
    "    loss = criterion(out[data.test_mask], y[data.test_mask])\n",
    "    # Compute the test accuracy\n",
    "    acc = (out[data.test_mask].argmax(dim=1) == y[data.test_mask]).sum().item() / y[data.test_mask].size(0)\n",
    "    # Return the test loss and the test accuracy\n",
    "    return loss, acc"
   ]
  },
  {
   "cell_type": "markdown",
   "metadata": {},
   "source": [
    "Weight decay"
   ]
  },
  {
   "cell_type": "code",
   "execution_count": 11,
   "metadata": {},
   "outputs": [],
   "source": [
    "def train_model_weight_decay(data, weight_decay):\n",
    "    out_channels = data.y.max().item() + 1\n",
    "    model = GAT_L2_intervention(in_channels=2, hidden_channels=8, out_channels=out_channels, heads=1)\n",
    "    # Define the number of epochs\n",
    "    epochs = 500\n",
    "    # Define the learning rate\n",
    "    lr = 0.005\n",
    "    # Prepare the optimizer\n",
    "    optimizer = torch.optim.Adam(model.parameters(), lr=lr, weight_decay=weight_decay)\n",
    "    # Train the models\n",
    "    model, loss, acc = train(model=model, data=data, optimizer=optimizer, epochs=epochs)\n",
    "    # Test the models\n",
    "    test_loss, test_acc = test(model=model, data=data)\n",
    "    # Print the results\n",
    "    print(f\"Model: GAT_infection_2L1H_weight_decay_{weight_decay}, Loss: {loss:.4f}, Train Accuracy: {acc:.4f}, Test Loss: {test_loss:.4f}, Test Accuracy: {test_acc:.4f}\")\n",
    "    torch.save(model, f'/workspace/GAT_infection_2L1H_weight_decay_{weight_decay}.pt')"
   ]
  },
  {
   "cell_type": "code",
   "execution_count": 12,
   "metadata": {},
   "outputs": [
    {
     "name": "stdout",
     "output_type": "stream",
     "text": [
      "Model: GAT_infection_2L1H_weight_decay_0, Loss: 0.1726, Train Accuracy: 0.9348, Test Loss: 0.1776, Test Accuracy: 0.9304\n",
      "Model: GAT_infection_2L1H_weight_decay_0.0001, Loss: 0.1609, Train Accuracy: 0.9496, Test Loss: 0.1671, Test Accuracy: 0.9432\n",
      "Model: GAT_infection_2L1H_weight_decay_0.0005, Loss: 0.1142, Train Accuracy: 0.9512, Test Loss: 0.1177, Test Accuracy: 0.9480\n",
      "Model: GAT_infection_2L1H_weight_decay_0.001, Loss: 0.1091, Train Accuracy: 0.9508, Test Loss: 0.1101, Test Accuracy: 0.9476\n",
      "Model: GAT_infection_2L1H_weight_decay_0.005, Loss: 0.2144, Train Accuracy: 0.9236, Test Loss: 0.2197, Test Accuracy: 0.9204\n",
      "Model: GAT_infection_2L1H_weight_decay_0.01, Loss: 0.2491, Train Accuracy: 0.9016, Test Loss: 0.2521, Test Accuracy: 0.8980\n"
     ]
    }
   ],
   "source": [
    "# for weight_decay in [0, 0.0001, 0.0005, 0.001, 0.005, 0.01]:\n",
    "#     train_model_weight_decay(data=data, weight_decay=weight_decay)"
   ]
  },
  {
   "cell_type": "markdown",
   "metadata": {},
   "source": [
    "Dropout"
   ]
  },
  {
   "cell_type": "code",
   "execution_count": 13,
   "metadata": {},
   "outputs": [],
   "source": [
    "def train_model_dropout(data, dropout):\n",
    "    out_channels = data.y.max().item() + 1\n",
    "    model = GAT_L2_intervention(in_channels=2, \n",
    "                                hidden_channels=8, \n",
    "                                out_channels=out_channels, \n",
    "                                heads=1,\n",
    "                                dropout=dropout)\n",
    "    # Define the number of epochs\n",
    "    epochs = 500\n",
    "    # Define the learning rate\n",
    "    lr = 0.005\n",
    "    # Prepare the optimizer\n",
    "    optimizer = torch.optim.Adam(model.parameters(), lr=lr, weight_decay=0)\n",
    "    # Train the models\n",
    "    model, loss, acc = train(model=model, data=data, optimizer=optimizer, epochs=epochs)\n",
    "    # Test the models\n",
    "    test_loss, test_acc = test(model=model, data=data)\n",
    "    # Print the results\n",
    "    print(f\"Model: GAT_infection_2L1H_dropout_{dropout}, Loss: {loss:.4f}, Train Accuracy: {acc:.4f}, Test Loss: {test_loss:.4f}, Test Accuracy: {test_acc:.4f}\")\n",
    "    torch.save(model, f'/workspace/GAT_infection_2L1H_dropout_{dropout}.pt')"
   ]
  },
  {
   "cell_type": "code",
   "execution_count": 14,
   "metadata": {},
   "outputs": [
    {
     "name": "stdout",
     "output_type": "stream",
     "text": [
      "Model: GAT_infection_2L1H_dropout_0, Loss: 0.1452, Train Accuracy: 0.9504, Test Loss: 0.1492, Test Accuracy: 0.9476\n",
      "Model: GAT_infection_2L1H_dropout_0.2, Loss: 0.2579, Train Accuracy: 0.9216, Test Loss: 0.1621, Test Accuracy: 0.9476\n",
      "Model: GAT_infection_2L1H_dropout_0.4, Loss: 0.4582, Train Accuracy: 0.8036, Test Loss: 0.2922, Test Accuracy: 0.8600\n",
      "Model: GAT_infection_2L1H_dropout_0.6, Loss: 0.6253, Train Accuracy: 0.7652, Test Loss: 0.3000, Test Accuracy: 0.8600\n",
      "Model: GAT_infection_2L1H_dropout_0.8, Loss: 0.7349, Train Accuracy: 0.7672, Test Loss: 0.4399, Test Accuracy: 0.8356\n"
     ]
    }
   ],
   "source": [
    "# for dropout in [0, 0.2, 0.4, 0.6, 0.8]:\n",
    "#     train_model_dropout(data=data, dropout=dropout)"
   ]
  },
  {
   "cell_type": "markdown",
   "metadata": {},
   "source": [
    "### 2. General hyperparameters"
   ]
  },
  {
   "cell_type": "code",
   "execution_count": 16,
   "metadata": {},
   "outputs": [],
   "source": [
    "def train_model_general_hyperparameters(data, hidden_channels):\n",
    "    out_channels = data.y.max().item() + 1\n",
    "    model = GAT_L2_intervention(in_channels=2, hidden_channels=hidden_channels, out_channels=out_channels, heads=1)\n",
    "    # Define the number of epochs\n",
    "    epochs = 500\n",
    "    # Define the learning rate\n",
    "    lr = 0.005\n",
    "    # Prepare the optimizer\n",
    "    optimizer = torch.optim.Adam(model.parameters(), lr=lr, weight_decay=0)\n",
    "    # Train the models\n",
    "    model, loss, acc = train(model=model, data=data, optimizer=optimizer, epochs=epochs)\n",
    "    # Test the models\n",
    "    test_loss, test_acc = test(model=model, data=data)\n",
    "    # Print the results\n",
    "    print(f\"Model: GAT_infection_2L1H_hidden_channels_{hidden_channels}, Loss: {loss:.4f}, Train Accuracy: {acc:.4f}, Test Loss: {test_loss:.4f}, Test Accuracy: {test_acc:.4f}\")\n",
    "    torch.save(model, f'/workspace/GAT_infection_2L1H_hidden_channels_{hidden_channels}.pt')"
   ]
  },
  {
   "cell_type": "code",
   "execution_count": 18,
   "metadata": {},
   "outputs": [
    {
     "name": "stdout",
     "output_type": "stream",
     "text": [
      "Model: GAT_infection_2L1H_hidden_channels_8, Loss: 0.1289, Train Accuracy: 0.9488, Test Loss: 0.1328, Test Accuracy: 0.9448\n",
      "Model: GAT_infection_2L1H_hidden_channels_16, Loss: 0.1102, Train Accuracy: 0.9512, Test Loss: 0.1135, Test Accuracy: 0.9480\n",
      "Model: GAT_infection_2L1H_hidden_channels_32, Loss: 0.1009, Train Accuracy: 0.9512, Test Loss: 0.1036, Test Accuracy: 0.9480\n",
      "Model: GAT_infection_2L1H_hidden_channels_64, Loss: 0.1262, Train Accuracy: 0.9608, Test Loss: 0.1300, Test Accuracy: 0.9608\n"
     ]
    }
   ],
   "source": [
    "# for hidden_channels in [8, 16, 32, 64]:\n",
    "#     train_model_general_hyperparameters(data=data, hidden_channels=hidden_channels)"
   ]
  },
  {
   "cell_type": "code",
   "execution_count": null,
   "metadata": {},
   "outputs": [],
   "source": []
  }
 ],
 "metadata": {
  "kernelspec": {
   "display_name": "Python 3",
   "language": "python",
   "name": "python3"
  },
  "language_info": {
   "codemirror_mode": {
    "name": "ipython",
    "version": 3
   },
   "file_extension": ".py",
   "mimetype": "text/x-python",
   "name": "python",
   "nbconvert_exporter": "python",
   "pygments_lexer": "ipython3",
   "version": "3.10.12"
  },
  "orig_nbformat": 4
 },
 "nbformat": 4,
 "nbformat_minor": 2
}
