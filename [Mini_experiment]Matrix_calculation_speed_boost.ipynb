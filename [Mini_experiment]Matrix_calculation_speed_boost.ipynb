{
 "cells": [
  {
   "cell_type": "markdown",
   "metadata": {},
   "source": [
    "## Preparation of the data and model"
   ]
  },
  {
   "cell_type": "markdown",
   "metadata": {},
   "source": [
    "#### BA-Shapes, 2 layers 1 head"
   ]
  },
  {
   "cell_type": "code",
   "execution_count": 1,
   "metadata": {},
   "outputs": [],
   "source": [
    "# Import the utility functions\n",
    "import torch\n",
    "from src.experiment_utils import FaithfulnessExperiment, FaithfulnessExperimentAnalysis\n",
    "\n",
    "device = torch.device(\"cpu\")\n",
    "dataset_folder = \"/workspace/Datasets\"\n",
    "model_folder = \"/workspace/Models\"\n",
    "\n",
    "# Load the network data locally (for reproduction)\n",
    "data = torch.load(f\"{dataset_folder}/BA-Shapes.pt\").to(device)\n",
    "# Load model as a whole\n",
    "model = torch.load(f\"{model_folder}/GAT_BAShapes_2L1H.pt\").to(device)\n",
    "model.eval()\n",
    "\n",
    "with torch.no_grad():\n",
    "    _  = model(data.x, data.edge_index, return_att = True)\n",
    "    att = model.att"
   ]
  },
  {
   "cell_type": "code",
   "execution_count": 2,
   "metadata": {},
   "outputs": [
    {
     "name": "stdout",
     "output_type": "stream",
     "text": [
      "Target nodes set...\n",
      "Generating edge lists within 2 hops of target nodes...\n",
      "...Done\n"
     ]
    }
   ],
   "source": [
    "# Define the experiment\n",
    "faithfulness_experiment = FaithfulnessExperiment(\n",
    "    model = model,\n",
    "    data = data,\n",
    "    device = device,\n",
    "    )\n",
    "\n",
    "faithfulness_experiment.set_target_nodes(\n",
    "    list(range(300, 700))\n",
    ")"
   ]
  },
  {
   "cell_type": "code",
   "execution_count": 3,
   "metadata": {},
   "outputs": [
    {
     "name": "stdout",
     "output_type": "stream",
     "text": [
      "2.08 s ± 9 ms per loop (mean ± std. dev. of 7 runs, 1 loop each)\n"
     ]
    }
   ],
   "source": [
    "%%timeit \n",
    "attribute_dict = faithfulness_experiment.get_attributions(verbose=False)"
   ]
  },
  {
   "cell_type": "code",
   "execution_count": 4,
   "metadata": {},
   "outputs": [
    {
     "name": "stdout",
     "output_type": "stream",
     "text": [
      "2.08 s ± 9 ms per loop, 0.0052 s per node\n"
     ]
    }
   ],
   "source": [
    "print(f\"2.08 s ± 9 ms per loop, {2.08 / 400} s per node\")"
   ]
  },
  {
   "cell_type": "markdown",
   "metadata": {},
   "source": [
    "#### BA-Shapes, 3 layers 1 head"
   ]
  },
  {
   "cell_type": "code",
   "execution_count": 5,
   "metadata": {},
   "outputs": [],
   "source": [
    "# Import the utility functions\n",
    "import torch\n",
    "\n",
    "device = torch.device(\"cpu\")\n",
    "dataset_folder = \"/workspace/Datasets\"\n",
    "model_folder = \"/workspace/Models\"\n",
    "\n",
    "# Load the network data locally (for reproduction)\n",
    "data = torch.load(f\"{dataset_folder}/BA-Shapes.pt\").to(device)\n",
    "# Load model as a whole\n",
    "model = torch.load(f\"{model_folder}/GAT_BAShapes_3L1H.pt\").to(device)\n",
    "model.eval()\n",
    "\n",
    "with torch.no_grad():\n",
    "    _  = model(data.x, data.edge_index, return_att = True)\n",
    "    att = model.att"
   ]
  },
  {
   "cell_type": "code",
   "execution_count": 6,
   "metadata": {},
   "outputs": [
    {
     "name": "stdout",
     "output_type": "stream",
     "text": [
      "Target nodes set...\n",
      "Generating edge lists within 3 hops of target nodes...\n",
      "...Done\n"
     ]
    }
   ],
   "source": [
    "# Define the experiment\n",
    "faithfulness_experiment = FaithfulnessExperiment(\n",
    "    model = model,\n",
    "    data = data,\n",
    "    device = device,\n",
    "    )\n",
    "\n",
    "faithfulness_experiment.set_target_nodes(\n",
    "    list(range(300, 700))\n",
    ")"
   ]
  },
  {
   "cell_type": "code",
   "execution_count": 7,
   "metadata": {},
   "outputs": [
    {
     "name": "stderr",
     "output_type": "stream",
     "text": [
      "/workspace/src/experiment_utils.py:124: UserWarning: Sparse CSR tensor support is in beta state. If you miss a functionality in the sparse tensor support, please submit a feature request to https://github.com/pytorch/pytorch/issues. (Triggered internally at ../aten/src/ATen/SparseCsrTensorImpl.cpp:54.)\n",
      "  correction_matrix_dict[0] = torch.sparse.mm(att_matrix_dict[2], att_matrix_dict[1])\n"
     ]
    },
    {
     "name": "stdout",
     "output_type": "stream",
     "text": [
      "17.4 s ± 40.8 ms per loop (mean ± std. dev. of 7 runs, 1 loop each)\n"
     ]
    }
   ],
   "source": [
    "%%timeit \n",
    "attribute_dict = faithfulness_experiment.get_attributions(verbose=False)"
   ]
  },
  {
   "cell_type": "code",
   "execution_count": 8,
   "metadata": {},
   "outputs": [
    {
     "name": "stdout",
     "output_type": "stream",
     "text": [
      "17.4 s ± 40.8 ms per loop, 0.0435 s per node\n"
     ]
    }
   ],
   "source": [
    "print(f\"17.4 s ± 40.8 ms per loop, {17.4 / 400} s per node\")"
   ]
  },
  {
   "cell_type": "code",
   "execution_count": 11,
   "metadata": {},
   "outputs": [],
   "source": [
    "# Now, we have everything that we need to run the experiment on a single target node.\n",
    "# The experiment is run as follows.\n",
    "# 1. We select a target node (given as a parameter to the function)\n",
    "# 2. Get all edges within the target node's k-hop neighborhood\n",
    "# 3. For all edges in the k-hop neighborhood, we get the attribution scores\n",
    "# according to ATTATTRIBUTE, ATTATTRIBUTE_sim, and AVGATT.\n",
    "# 4. Now, get the 1) label 2) prediction 3) prediction probability 4) entropy values of the original model\n",
    "# 5. Now, we mask each edge acquired in step 2, and get the 1) label 2) prediction 3) prediction probability 4) entropy values\n",
    "# by masking the edge.\n",
    "# 6. Compare the importance ranking between the three scores in step 3 and the change in the values in step 5.\n",
    "# Just do this for one target node for now.\n",
    "\n",
    "# Import the utility functions\n",
    "from torch_geometric.utils import get_num_hops, get_num_hops\n",
    "from typing import Tuple\n",
    "\n",
    "import torch\n",
    "from src.attention_analysis_utils import (\n",
    "    get_attention_raw_dict,\n",
    "    process_attention_dict,\n",
    "    get_computation_graph,\n",
    "    get_nodes_per_level_from_comp_graph_full,\n",
    "    reindex_nodes_per_level,\n",
    "    translate_comp_graph,\n",
    "    get_att_dict_per_layer,\n",
    "    get_ATTATTTRIBUTE_edge,\n",
    "    get_AVGATT_edge,\n",
    "    return_edges_in_k_hop,\n",
    ")\n",
    "from torch_geometric.utils import get_num_hops\n",
    "from typing import Tuple\n",
    "from torch_geometric.utils import degree\n",
    "\n",
    "def get_edge_scores(\n",
    "    target_edge: Tuple, comp_graph, comp_graph_new, layer_att_dict, att\n",
    "):\n",
    "    assert type(target_edge) == tuple, \"target_edge must be a tuple\"\n",
    "    # Get ATTATTRIBUTE & ATTATTRIBUTE_sim scores\n",
    "    attattribute, attattribute_sim = get_ATTATTTRIBUTE_edge(\n",
    "        comp_graph=comp_graph,\n",
    "        comp_graph_new=comp_graph_new,\n",
    "        layer_att_dict=layer_att_dict,\n",
    "        target_edge=target_edge,\n",
    "        verbose=False,\n",
    "    )\n",
    "    # Get AVGATT scores\n",
    "    avgatt = get_AVGATT_edge(att=att, edge=target_edge)\n",
    "\n",
    "    return attattribute, attattribute_sim, avgatt\n",
    "\n",
    "\n",
    "\n",
    "# Let's refactor tha code below as a function\n",
    "def experiment_on_target_node_simplified(\n",
    "    target_idx: int, data, model, self_loops=True, verbose=False\n",
    "):\n",
    "    # 2. Get all edges within the target node's k-hop neighborhood\n",
    "    edge_lists = return_edges_in_k_hop(\n",
    "        data=data, target_idx=target_idx, hop=2, self_loops=self_loops\n",
    "    )\n",
    "    if verbose:\n",
    "        print(f\"Number of edges in the k-hop neighborhood: {len(edge_lists)}\")\n",
    "\n",
    "    # 3. For all edges in the k-hop neighborhood, we get the attribution scores\n",
    "    # according to ATTATTRIBUTE, ATTATTRIBUTE_sim, and AVGATT.\n",
    "    # First, prepare ingredients for analysis\n",
    "\n",
    "    num_layers = get_num_hops(model)\n",
    "    att_dict_raw = get_attention_raw_dict(model, data)\n",
    "    att_dict = process_attention_dict(att_dict_raw)\n",
    "    comp_graph = get_computation_graph(\n",
    "        edge_index=data.edge_index, k=num_layers, target_idx=target_idx\n",
    "    )\n",
    "    (\n",
    "        nodes_per_level_original,\n",
    "        num_nodes_per_level,\n",
    "        true_node_label,\n",
    "    ) = get_nodes_per_level_from_comp_graph_full(comp_graph=comp_graph)\n",
    "    nodes_per_level_new = reindex_nodes_per_level(\n",
    "        nodes_per_level_original, num_nodes_per_level\n",
    "    )\n",
    "    comp_graph_new = translate_comp_graph(\n",
    "        comp_graph=comp_graph,\n",
    "        nodes_per_level_new=nodes_per_level_new,\n",
    "        nodes_per_level_original=nodes_per_level_original,\n",
    "        degree=degree(data.edge_index[0]),\n",
    "    )\n",
    "    layer_att_dict = get_att_dict_per_layer(\n",
    "        comp_graph=comp_graph, comp_graph_new=comp_graph_new, att_dict=att_dict\n",
    "    )\n",
    "\n",
    "    # 4. Now, get the 1) label 2) prediction 3) prediction probability 4) entropy values of the original model\n",
    "    # Output without any masking\n",
    "    with torch.no_grad():\n",
    "        _ = model(\n",
    "            x=data.x, edge_index=data.edge_index, return_att=True, mask_edge=None\n",
    "        )\n",
    "        att = model.att\n",
    "    # Get results for all edges in the k-hop neighborhood\n",
    "    attattribute_list, attattribute_sim_list, avgatt_list = [], [], []\n",
    "    for current_edge in edge_lists:\n",
    "        attattribute, attattribute_sim, avgatt = get_edge_scores(\n",
    "            target_edge=tuple(current_edge),\n",
    "            comp_graph=comp_graph,\n",
    "            comp_graph_new=comp_graph_new,\n",
    "            layer_att_dict=layer_att_dict,\n",
    "            att=att,\n",
    "        )\n",
    "        attattribute_list.append(attattribute)\n",
    "        attattribute_sim_list.append(attattribute_sim)\n",
    "        avgatt_list.append(avgatt)\n",
    "\n",
    "def experiment_on_batch_node_wrapper(list_target_idx, data, model):\n",
    "    for target_idx in list_target_idx:\n",
    "        experiment_on_target_node_simplified(target_idx=target_idx, data=data, model=model, self_loops=True, verbose=False)"
   ]
  },
  {
   "cell_type": "markdown",
   "metadata": {},
   "source": [
    "### BA-shapes, 2 layers 1 head"
   ]
  },
  {
   "cell_type": "code",
   "execution_count": 13,
   "metadata": {},
   "outputs": [],
   "source": [
    "# Import the utility functions\n",
    "import torch\n",
    "\n",
    "device = torch.device(\"cpu\")\n",
    "dataset_folder = \"/workspace/Datasets\"\n",
    "model_folder = \"/workspace/Models\"\n",
    "\n",
    "# Load the network data locally (for reproduction)\n",
    "data = torch.load(f\"{dataset_folder}/BA-Shapes.pt\").to(device)\n",
    "# Load model as a whole\n",
    "model = torch.load(f\"{model_folder}/GAT_BAShapes_2L1H.pt\").to(device)\n",
    "model.eval()\n",
    "\n",
    "with torch.no_grad():\n",
    "    _  = model(data.x, data.edge_index, return_att = True)\n",
    "    att = model.att"
   ]
  },
  {
   "cell_type": "code",
   "execution_count": 14,
   "metadata": {},
   "outputs": [
    {
     "name": "stdout",
     "output_type": "stream",
     "text": [
      "3min 36s ± 1.18 s per loop (mean ± std. dev. of 7 runs, 1 loop each)\n"
     ]
    }
   ],
   "source": [
    "%%timeit\n",
    "experiment_on_batch_node_wrapper(list_target_idx=list(range(300, 700)), data=data, model=model)"
   ]
  },
  {
   "cell_type": "markdown",
   "metadata": {},
   "source": [
    "### BA-shapes, 3 layers 1 head"
   ]
  },
  {
   "cell_type": "code",
   "execution_count": 15,
   "metadata": {},
   "outputs": [],
   "source": [
    "# Import the utility functions\n",
    "import torch\n",
    "\n",
    "device = torch.device(\"cpu\")\n",
    "dataset_folder = \"/workspace/Datasets\"\n",
    "model_folder = \"/workspace/Models\"\n",
    "\n",
    "# Load the network data locally (for reproduction)\n",
    "data = torch.load(f\"{dataset_folder}/BA-Shapes.pt\").to(device)\n",
    "# Load model as a whole\n",
    "model = torch.load(f\"{model_folder}/GAT_BAShapes_3L1H.pt\").to(device)\n",
    "model.eval()\n",
    "\n",
    "with torch.no_grad():\n",
    "    _  = model(data.x, data.edge_index, return_att = True)\n",
    "    att = model.att"
   ]
  },
  {
   "cell_type": "code",
   "execution_count": 16,
   "metadata": {},
   "outputs": [
    {
     "name": "stdout",
     "output_type": "stream",
     "text": [
      "5min 23s ± 1.58 s per loop (mean ± std. dev. of 7 runs, 1 loop each)\n"
     ]
    }
   ],
   "source": [
    "%%timeit\n",
    "experiment_on_batch_node_wrapper(list_target_idx=list(range(300, 700)), data=data, model=model)"
   ]
  },
  {
   "cell_type": "code",
   "execution_count": null,
   "metadata": {},
   "outputs": [],
   "source": []
  },
  {
   "cell_type": "markdown",
   "metadata": {},
   "source": [
    "#### Code for runnint experiments (do not run these cell unless re-experimenting)"
   ]
  },
  {
   "cell_type": "code",
   "execution_count": 60,
   "metadata": {},
   "outputs": [
    {
     "name": "stderr",
     "output_type": "stream",
     "text": [
      "/tmp/ipykernel_570993/2158014836.py:46: UserWarning: Attempt to set non-positive ylim on a log-scaled axis will be ignored.\n",
      "  plt.ylim([0, 600])\n"
     ]
    },
    {
     "data": {
      "image/png": "[encoded data removed]",
      "text/plain": [
       "<Figure size 700x500 with 1 Axes>"
      ]
     },
     "metadata": {},
     "output_type": "display_data"
    }
   ],
   "source": [
    "import numpy as np\n",
    "import matplotlib.pyplot as plt\n",
    "\n",
    "tot_runtime_2L1H = 2.08\n",
    "tot_runtime_3L1H = 17.4\n",
    "\n",
    "runtime_per_node_2L1H = tot_runtime_2L1H / 400\n",
    "runtime_per_node_3L1H = tot_runtime_3L1H / 400\n",
    "\n",
    "tot_runtime_2L1H_old = 3 * 60 + 36\n",
    "tot_runtime_3L1H_old = 5 * 60 + 23\n",
    "\n",
    "runtime_per_node_2L1H_old = tot_runtime_2L1H_old / 400\n",
    "runtime_per_node_3L1H_old = tot_runtime_3L1H_old / 400\n",
    "\n",
    "# Use colors #1e1f71 and #dc143c\n",
    "\n",
    "# Figure size\n",
    "plt.figure(figsize=(7,5), dpi= 100)\n",
    "\n",
    "ind = np.arange(2)  # the x locations for the groups\n",
    "\n",
    "blue_bar = [tot_runtime_2L1H, tot_runtime_3L1H]\n",
    "red_bar = [tot_runtime_2L1H_old, tot_runtime_3L1H_old]\n",
    "\n",
    "# Width of a bar \n",
    "width = 0.3       \n",
    "\n",
    "# Plotting\n",
    "plt.bar(ind, blue_bar , width, label='Matrix computation', color = '#1e1f71')\n",
    "plt.bar(ind + width, red_bar, width, label='Previous implementation', color = '#dc143c')\n",
    "\n",
    "# Display runtime per node as text on top of the bars\n",
    "plt.text(x = -0.1 , y = tot_runtime_2L1H + 0.1, s = f\"{runtime_per_node_2L1H:.3f}s/node\", size = 10)\n",
    "plt.text(x = 0.2 , y = tot_runtime_2L1H_old + 10, s = f\"{runtime_per_node_2L1H_old:.3f}s/node\", size = 10)\n",
    "\n",
    "plt.text(x = 0.9 , y = tot_runtime_3L1H + 1, s = f\"{runtime_per_node_3L1H:.3f}s/node\", size = 10)\n",
    "plt.text(x = 1.2 , y = tot_runtime_3L1H_old + 10, s = f\"{runtime_per_node_3L1H_old:.3f}s/node\", size = 10)\n",
    "\n",
    "plt.xlabel('Model configuration')\n",
    "plt.ylabel('Runtime (log scale)')\n",
    "plt.title('Runtime comparison (BA-shapes dataset)')\n",
    "plt.xticks(ind + width / 2, ('2 layer GAT', '3 layer GAT'))\n",
    "# Make y-axis log scale\n",
    "plt.yscale('log')\n",
    "plt.ylim([0, 600])\n",
    "\n",
    "# Create legend at top left\n",
    "plt.legend(loc='upper left')\n",
    "plt.tight_layout()\n",
    "plt.show()"
   ]
  },
  {
   "cell_type": "code",
   "execution_count": 59,
   "metadata": {},
   "outputs": [
    {
     "data": {
      "text/plain": [
       "0.0052"
      ]
     },
     "execution_count": 59,
     "metadata": {},
     "output_type": "execute_result"
    }
   ],
   "source": [
    "runtime_per_node_2L1H"
   ]
  }
 ],
 "metadata": {
  "kernelspec": {
   "display_name": "Python 3",
   "language": "python",
   "name": "python3"
  },
  "language_info": {
   "codemirror_mode": {
    "name": "ipython",
    "version": 3
   },
   "file_extension": ".py",
   "mimetype": "text/x-python",
   "name": "python",
   "nbconvert_exporter": "python",
   "pygments_lexer": "ipython3",
   "version": "3.10.12"
  },
  "orig_nbformat": 4
 },
 "nbformat": 4,
 "nbformat_minor": 2
}
