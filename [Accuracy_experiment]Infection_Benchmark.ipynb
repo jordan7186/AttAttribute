{
 "cells": [
  {
   "cell_type": "markdown",
   "metadata": {},
   "source": [
    "# Accuracy experiments with Infection Benchmark"
   ]
  },
  {
   "cell_type": "markdown",
   "metadata": {},
   "source": [
    "## Load and visualize the data"
   ]
  },
  {
   "cell_type": "code",
   "execution_count": 57,
   "metadata": {},
   "outputs": [],
   "source": [
    "# Import the utility functions\n",
    "from attention_analysis_utils import (\n",
    "    get_attention_raw_dict,\n",
    "    process_attention_dict,\n",
    "    get_computation_graph,\n",
    "    get_nodes_per_level_from_comp_graph_full,\n",
    "    get_attention_raw_dict_multihead,\n",
    "    reindex_nodes_per_level,\n",
    "    translate_comp_graph,\n",
    "    get_att_dict_per_layer,\n",
    "    return_edges_in_k_hop,\n",
    "    get_ATTATTTRIBUTE_edge,\n",
    "    get_AVGATT_edge,\n",
    "    average_attention_heads,\n",
    ")\n",
    "\n",
    "from torch_geometric.utils import get_num_hops\n",
    "from visualization_utils import (\n",
    "    visualize_computation_graph,\n",
    ")\n",
    "import torch\n",
    "from typing import Tuple\n",
    "\n",
    "def get_edge_scores(\n",
    "    target_edge: Tuple, comp_graph, comp_graph_new, layer_att_dict, att\n",
    "):\n",
    "    assert type(target_edge) == tuple, \"target_edge must be a tuple\"\n",
    "    # Get ATTATTRIBUTE & ATTATTRIBUTE_sim scores\n",
    "    attattribute, attattribute_sim = get_ATTATTTRIBUTE_edge(\n",
    "        comp_graph=comp_graph,\n",
    "        comp_graph_new=comp_graph_new,\n",
    "        layer_att_dict=layer_att_dict,\n",
    "        target_edge=target_edge,\n",
    "        verbose=False,\n",
    "    )\n",
    "    # Get AVGATT scores\n",
    "    avgatt = get_AVGATT_edge(att=att, edge=target_edge)\n",
    "\n",
    "    return attattribute, attattribute_sim, avgatt\n",
    "\n",
    "def return_is_edge_list_Infection(edge_list, path_expl):\n",
    "    # Assuming path_expl is something like:\n",
    "    # [1215, 1024, 606, 10]. We need all edges in edge_list\n",
    "    # to be checked for the presence of this path.\n",
    "    expl_edge_set = {(path_expl[i], path_expl[i+1]) for i in range(len(path_expl) - 1)}\n",
    "\n",
    "    ground_truth_edge_list = []\n",
    "    for edge in edge_list:\n",
    "        if tuple(edge) in expl_edge_set:\n",
    "            ground_truth_edge_list.append(1)\n",
    "        else:\n",
    "            ground_truth_edge_list.append(0)\n",
    "    return ground_truth_edge_list\n",
    "\n",
    "def experiment_on_target_node(\n",
    "    target_idx: int, data, model, path_expl, self_loops=True, multiheads=False,\n",
    "):\n",
    "    num_hops = get_num_hops(model)\n",
    "    num_layers = num_hops\n",
    "\n",
    "    edge_lists = return_edges_in_k_hop(\n",
    "        data=data, target_idx=target_idx, hop=2, self_loops=self_loops\n",
    "    )\n",
    "    # 3. For all edges in the k-hop neighborhood, we get the attribution scores\n",
    "    # according to ATTATTRIBUTE, ATTATTRIBUTE_sim, and AVGATT.\n",
    "    # First, prepare ingredients for analysis\n",
    "\n",
    "    num_layers = get_num_hops(model)\n",
    "    if multiheads:\n",
    "        att_dict_raw = get_attention_raw_dict_multihead(model, data)\n",
    "    else:\n",
    "        att_dict_raw = get_attention_raw_dict(model, data)\n",
    "    att_dict = process_attention_dict(att_dict_raw)\n",
    "    comp_graph = get_computation_graph(\n",
    "        edge_index=data.edge_index, k=num_layers, target_idx=target_idx\n",
    "    )\n",
    "    (\n",
    "        nodes_per_level_original,\n",
    "        num_nodes_per_level,\n",
    "        true_node_label,\n",
    "    ) = get_nodes_per_level_from_comp_graph_full(comp_graph=comp_graph)\n",
    "    nodes_per_level_new = reindex_nodes_per_level(\n",
    "        nodes_per_level_original, num_nodes_per_level\n",
    "    )\n",
    "    comp_graph_new = translate_comp_graph(\n",
    "        comp_graph=comp_graph,\n",
    "        nodes_per_level_new=nodes_per_level_new,\n",
    "        nodes_per_level_original=nodes_per_level_original,\n",
    "    )\n",
    "    layer_att_dict = get_att_dict_per_layer(\n",
    "        comp_graph=comp_graph, comp_graph_new=comp_graph_new, att_dict=att_dict\n",
    "    )\n",
    "\n",
    "    # Get results for all edges in the k-hop neighborhood\n",
    "    attattribute_list, attattribute_sim_list, avgatt_list = [], [], []\n",
    "    # Get the attention weights again\n",
    "    with torch.no_grad():\n",
    "        model(data.x, data.edge_index, return_att=True)\n",
    "        att = model.att \n",
    "        att = average_attention_heads(att)\n",
    "        model.att = att\n",
    "\n",
    "    for current_edge in edge_lists:\n",
    "        attattribute, attattribute_sim, avgatt = get_edge_scores(\n",
    "            target_edge=tuple(current_edge),\n",
    "            comp_graph=comp_graph,\n",
    "            comp_graph_new=comp_graph_new,\n",
    "            layer_att_dict=layer_att_dict,\n",
    "            att=att,\n",
    "        )\n",
    "        attattribute_list.append(attattribute)\n",
    "        attattribute_sim_list.append(attattribute_sim)\n",
    "        avgatt_list.append(avgatt)\n",
    "\n",
    "    ground_truth_edge_list = return_is_edge_list_Infection(edge_lists, path_expl)\n",
    "\n",
    "    return (\n",
    "        attattribute_list,\n",
    "        attattribute_sim_list,\n",
    "        avgatt_list,\n",
    "        ground_truth_edge_list,\n",
    "    )"
   ]
  },
  {
   "cell_type": "markdown",
   "metadata": {},
   "source": [
    "GAT 3 layer 1 head"
   ]
  },
  {
   "cell_type": "code",
   "execution_count": 1,
   "metadata": {},
   "outputs": [],
   "source": [
    "import torch\n",
    "import networkx as nx\n",
    "from torch_geometric.utils import to_networkx, k_hop_subgraph, remove_self_loops, add_self_loops\n",
    "from torch_geometric.data import Data\n",
    "\n",
    "dataset_name = 'Infection_50003d_sp'\n",
    "model_name = f'GAT_infection_3L1H_sp'\n",
    "\n",
    "# Load the data\n",
    "data = torch.load(f'/workspace/{dataset_name}.pt',map_location ='cpu')\n",
    "# Load the model\n",
    "model = torch.load(f'/workspace/{model_name}.pt',map_location ='cpu')\n",
    "model.eval()\n",
    "# Get the attention weights\n",
    "with torch.no_grad():\n",
    "    out = model(data.x, data.edge_index, return_att=True)\n",
    "    att = model.att \n",
    "    # att = average_attention_heads(att)\n",
    "    # model.att = att\n",
    "\n",
    "# data.edge_index = add_self_loops(remove_self_loops(data.edge_index)[0])[0]\n",
    "# G = to_networkx(data, to_undirected=True)   "
   ]
  },
  {
   "cell_type": "code",
   "execution_count": 59,
   "metadata": {},
   "outputs": [],
   "source": [
    "attattribute_list, attattribute_sim_list, avgatt_list = [], [], []\n",
    "ground_truth_edge_list = []\n",
    "\n",
    "for idx, target_node in enumerate(data.unique_solution_nodes):\n",
    "    path_expl = data.unique_solution_explanations[idx]\n",
    "    target_node_results = experiment_on_target_node(\n",
    "        target_idx=target_node,\n",
    "        data=data,\n",
    "        model=model,\n",
    "        path_expl=path_expl,\n",
    "        self_loops=True,\n",
    "    )\n",
    "    attattribute_list_curr = target_node_results[0]\n",
    "    attattribute_sim_list_curr = target_node_results[1]\n",
    "    avgatt_list_curr = target_node_results[2]\n",
    "    ground_truth_edge_list_curr = target_node_results[3]\n",
    "\n",
    "    attattribute_list.extend(attattribute_list_curr)\n",
    "    attattribute_sim_list.extend(attattribute_sim_list_curr)\n",
    "    avgatt_list.extend(avgatt_list_curr)\n",
    "    ground_truth_edge_list.extend(ground_truth_edge_list_curr)\n",
    "\n",
    "torch.save(\n",
    "    torch.Tensor(attattribute_list),\n",
    "    f\"/workspace/{dataset_name}_{model_name}_attattribute_list_Accuracy_test.pt\",\n",
    ")\n",
    "torch.save(\n",
    "    torch.Tensor(attattribute_sim_list),\n",
    "    f\"/workspace/{dataset_name}_{model_name}_attattribute_sim_list_Accuracy_test.pt\",\n",
    ")\n",
    "torch.save(\n",
    "    torch.Tensor(avgatt_list), f\"/workspace/{dataset_name}_{model_name}_avgatt_list_Accuracy_test.pt\"\n",
    ")\n",
    "torch.save(\n",
    "    torch.Tensor(ground_truth_edge_list),\n",
    "    f\"/workspace/{dataset_name}_{model_name}_ground_truth_edge_list_Accuracy_test.pt\",\n",
    ")"
   ]
  },
  {
   "cell_type": "code",
   "execution_count": 60,
   "metadata": {},
   "outputs": [],
   "source": [
    "# Load experiments from local\n",
    "\n",
    "attattribute_list = torch.load(\n",
    "    f\"/workspace/{dataset_name}_{model_name}_attattribute_list_Accuracy_test.pt\"\n",
    ")\n",
    "attattribute_sim_list = torch.load(\n",
    "    f\"/workspace/{dataset_name}_{model_name}_attattribute_sim_list_Accuracy_test.pt\"\n",
    ")\n",
    "avgatt_list = torch.load(f\"/workspace/{dataset_name}_{model_name}_avgatt_list_Accuracy_test.pt\")\n",
    "ground_truth_edge_list = torch.load(\n",
    "    f\"/workspace/{dataset_name}_{model_name}_ground_truth_edge_list_Accuracy_test.pt\"\n",
    ")"
   ]
  },
  {
   "cell_type": "code",
   "execution_count": 61,
   "metadata": {},
   "outputs": [
    {
     "name": "stdout",
     "output_type": "stream",
     "text": [
      "ROC AUC for ATTATTRIBUTE / ATTATTRIBUTE_SIM / AVGATT / RANDOM\n",
      "0.9359, 0.9405, 0.8852, 0.5073\n"
     ]
    }
   ],
   "source": [
    "from scipy.stats import kendalltau, spearmanr, pearsonr\n",
    "from sklearn.metrics import roc_auc_score\n",
    "\n",
    "ground_truth_edge_list = torch.Tensor(ground_truth_edge_list)\n",
    "# Also include a random baseline\n",
    "random_attr = torch.rand(ground_truth_edge_list.shape)\n",
    "random_attr_roc_auc = roc_auc_score(ground_truth_edge_list, random_attr)\n",
    "attattribute_roc_auc = roc_auc_score(ground_truth_edge_list, attattribute_list)\n",
    "attattribute_sim_roc_auc = roc_auc_score(ground_truth_edge_list, attattribute_sim_list)\n",
    "avgatt_roc_auc = roc_auc_score(ground_truth_edge_list, avgatt_list)\n",
    "\n",
    "# Print results\n",
    "print(\"ROC AUC for ATTATTRIBUTE / ATTATTRIBUTE_SIM / AVGATT / RANDOM\")\n",
    "print(f\"{attattribute_roc_auc:.4f}, {attattribute_sim_roc_auc:.4f}, {avgatt_roc_auc:.4f}, {random_attr_roc_auc:.4f}\")"
   ]
  },
  {
   "cell_type": "markdown",
   "metadata": {},
   "source": [
    "GAT 3 layer 2 head"
   ]
  },
  {
   "cell_type": "code",
   "execution_count": 62,
   "metadata": {},
   "outputs": [],
   "source": [
    "import torch\n",
    "import networkx as nx\n",
    "from torch_geometric.utils import to_networkx, k_hop_subgraph, remove_self_loops, add_self_loops\n",
    "from torch_geometric.data import Data\n",
    "\n",
    "dataset_name = 'Infection_50003d_sp'\n",
    "model_name = f'GAT_infection_3L2H_sp'\n",
    "\n",
    "# Load the data\n",
    "data = torch.load(f'/workspace/{dataset_name}.pt',map_location ='cpu')\n",
    "# Load the model\n",
    "model = torch.load(f'/workspace/{model_name}.pt',map_location ='cpu')\n",
    "model.eval()\n",
    "# Get the attention weights\n",
    "with torch.no_grad():\n",
    "    out = model(data.x, data.edge_index, return_att=True)\n",
    "    att = model.att \n",
    "    # att = average_attention_heads(att)\n",
    "    # model.att = att\n",
    "\n",
    "# data.edge_index = add_self_loops(remove_self_loops(data.edge_index)[0])[0]\n",
    "# G = to_networkx(data, to_undirected=True)   "
   ]
  },
  {
   "cell_type": "code",
   "execution_count": 63,
   "metadata": {},
   "outputs": [],
   "source": [
    "attattribute_list, attattribute_sim_list, avgatt_list = [], [], []\n",
    "ground_truth_edge_list = []\n",
    "\n",
    "for idx, target_node in enumerate(data.unique_solution_nodes):\n",
    "    path_expl = data.unique_solution_explanations[idx]\n",
    "    target_node_results = experiment_on_target_node(\n",
    "        target_idx=target_node,\n",
    "        data=data,\n",
    "        model=model,\n",
    "        path_expl=path_expl,\n",
    "        self_loops=True,\n",
    "        multiheads=True,\n",
    "    )\n",
    "    attattribute_list_curr = target_node_results[0]\n",
    "    attattribute_sim_list_curr = target_node_results[1]\n",
    "    avgatt_list_curr = target_node_results[2]\n",
    "    ground_truth_edge_list_curr = target_node_results[3]\n",
    "\n",
    "    attattribute_list.extend(attattribute_list_curr)\n",
    "    attattribute_sim_list.extend(attattribute_sim_list_curr)\n",
    "    avgatt_list.extend(avgatt_list_curr)\n",
    "    ground_truth_edge_list.extend(ground_truth_edge_list_curr)\n",
    "\n",
    "torch.save(\n",
    "    torch.Tensor(attattribute_list),\n",
    "    f\"/workspace/{dataset_name}_{model_name}_attattribute_list_Accuracy_test.pt\",\n",
    ")\n",
    "torch.save(\n",
    "    torch.Tensor(attattribute_sim_list),\n",
    "    f\"/workspace/{dataset_name}_{model_name}_attattribute_sim_list_Accuracy_test.pt\",\n",
    ")\n",
    "torch.save(\n",
    "    torch.Tensor(avgatt_list), f\"/workspace/{dataset_name}_{model_name}_avgatt_list_Accuracy_test.pt\"\n",
    ")\n",
    "torch.save(\n",
    "    torch.Tensor(ground_truth_edge_list),\n",
    "    f\"/workspace/{dataset_name}_{model_name}_ground_truth_edge_list_Accuracy_test.pt\",\n",
    ")"
   ]
  },
  {
   "cell_type": "code",
   "execution_count": 64,
   "metadata": {},
   "outputs": [],
   "source": [
    "# Load experiments from local\n",
    "\n",
    "attattribute_list = torch.load(\n",
    "    f\"/workspace/{dataset_name}_{model_name}_attattribute_list_Accuracy_test.pt\"\n",
    ")\n",
    "attattribute_sim_list = torch.load(\n",
    "    f\"/workspace/{dataset_name}_{model_name}_attattribute_sim_list_Accuracy_test.pt\"\n",
    ")\n",
    "avgatt_list = torch.load(f\"/workspace/{dataset_name}_{model_name}_avgatt_list_Accuracy_test.pt\")\n",
    "ground_truth_edge_list = torch.load(\n",
    "    f\"/workspace/{dataset_name}_{model_name}_ground_truth_edge_list_Accuracy_test.pt\"\n",
    ")"
   ]
  },
  {
   "cell_type": "code",
   "execution_count": 65,
   "metadata": {},
   "outputs": [],
   "source": [
    "from scipy.stats import kendalltau, spearmanr, pearsonr\n",
    "from sklearn.metrics import roc_auc_score\n",
    "\n",
    "ground_truth_edge_list = torch.Tensor(ground_truth_edge_list)\n",
    "# Also include a random baseline\n",
    "random_attr = torch.rand(ground_truth_edge_list.shape)\n",
    "random_attr_roc_auc = roc_auc_score(ground_truth_edge_list, random_attr)\n",
    "attattribute_roc_auc = roc_auc_score(ground_truth_edge_list, attattribute_list)\n",
    "attattribute_sim_roc_auc = roc_auc_score(ground_truth_edge_list, attattribute_sim_list)\n",
    "avgatt_roc_auc = roc_auc_score(ground_truth_edge_list, avgatt_list)\n",
    "\n",
    "# Print results\n",
    "# print(\"ROC AUC for ATTATTRIBUTE / ATTATTRIBUTE_SIM / AVGATT / RANDOM\")\n",
    "# print(f\"{attattribute_roc_auc:.4f}, {attattribute_sim_roc_auc:.4f}, {avgatt_roc_auc:.4f}, {random_attr_roc_auc:.4f}\")"
   ]
  },
  {
   "cell_type": "markdown",
   "metadata": {},
   "source": [
    "GAT 3 layer 4 head"
   ]
  },
  {
   "cell_type": "code",
   "execution_count": 66,
   "metadata": {},
   "outputs": [],
   "source": [
    "import torch\n",
    "import networkx as nx\n",
    "from torch_geometric.utils import to_networkx, k_hop_subgraph, remove_self_loops, add_self_loops\n",
    "from torch_geometric.data import Data\n",
    "\n",
    "dataset_name = 'Infection_50003d_sp'\n",
    "model_name = f'GAT_infection_3L4H_sp'\n",
    "\n",
    "# Load the data\n",
    "data = torch.load(f'/workspace/{dataset_name}.pt',map_location ='cpu')\n",
    "# Load the model\n",
    "model = torch.load(f'/workspace/{model_name}.pt',map_location ='cpu')\n",
    "model.eval()\n",
    "# Get the attention weights\n",
    "with torch.no_grad():\n",
    "    out = model(data.x, data.edge_index, return_att=True)\n",
    "    att = model.att \n",
    "    # att = average_attention_heads(att)\n",
    "    # model.att = att\n",
    "\n",
    "# data.edge_index = add_self_loops(remove_self_loops(data.edge_index)[0])[0]\n",
    "# G = to_networkx(data, to_undirected=True)   "
   ]
  },
  {
   "cell_type": "code",
   "execution_count": 67,
   "metadata": {},
   "outputs": [],
   "source": [
    "attattribute_list, attattribute_sim_list, avgatt_list = [], [], []\n",
    "ground_truth_edge_list = []\n",
    "\n",
    "for idx, target_node in enumerate(data.unique_solution_nodes):\n",
    "    path_expl = data.unique_solution_explanations[idx]\n",
    "    target_node_results = experiment_on_target_node(\n",
    "        target_idx=target_node,\n",
    "        data=data,\n",
    "        model=model,\n",
    "        path_expl=path_expl,\n",
    "        self_loops=True,\n",
    "        multiheads=True,\n",
    "    )\n",
    "    attattribute_list_curr = target_node_results[0]\n",
    "    attattribute_sim_list_curr = target_node_results[1]\n",
    "    avgatt_list_curr = target_node_results[2]\n",
    "    ground_truth_edge_list_curr = target_node_results[3]\n",
    "\n",
    "    attattribute_list.extend(attattribute_list_curr)\n",
    "    attattribute_sim_list.extend(attattribute_sim_list_curr)\n",
    "    avgatt_list.extend(avgatt_list_curr)\n",
    "    ground_truth_edge_list.extend(ground_truth_edge_list_curr)\n",
    "\n",
    "torch.save(\n",
    "    torch.Tensor(attattribute_list),\n",
    "    f\"/workspace/{dataset_name}_{model_name}_attattribute_list_Accuracy_test.pt\",\n",
    ")\n",
    "torch.save(\n",
    "    torch.Tensor(attattribute_sim_list),\n",
    "    f\"/workspace/{dataset_name}_{model_name}_attattribute_sim_list_Accuracy_test.pt\",\n",
    ")\n",
    "torch.save(\n",
    "    torch.Tensor(avgatt_list), f\"/workspace/{dataset_name}_{model_name}_avgatt_list_Accuracy_test.pt\"\n",
    ")\n",
    "torch.save(\n",
    "    torch.Tensor(ground_truth_edge_list),\n",
    "    f\"/workspace/{dataset_name}_{model_name}_ground_truth_edge_list_Accuracy_test.pt\",\n",
    ")"
   ]
  },
  {
   "cell_type": "code",
   "execution_count": 68,
   "metadata": {},
   "outputs": [],
   "source": [
    "# Load experiments from local\n",
    "\n",
    "attattribute_list = torch.load(\n",
    "    f\"/workspace/{dataset_name}_{model_name}_attattribute_list_Accuracy_test.pt\"\n",
    ")\n",
    "attattribute_sim_list = torch.load(\n",
    "    f\"/workspace/{dataset_name}_{model_name}_attattribute_sim_list_Accuracy_test.pt\"\n",
    ")\n",
    "avgatt_list = torch.load(f\"/workspace/{dataset_name}_{model_name}_avgatt_list_Accuracy_test.pt\")\n",
    "ground_truth_edge_list = torch.load(\n",
    "    f\"/workspace/{dataset_name}_{model_name}_ground_truth_edge_list_Accuracy_test.pt\"\n",
    ")"
   ]
  },
  {
   "cell_type": "code",
   "execution_count": 69,
   "metadata": {},
   "outputs": [],
   "source": [
    "from scipy.stats import kendalltau, spearmanr, pearsonr\n",
    "from sklearn.metrics import roc_auc_score\n",
    "\n",
    "ground_truth_edge_list = torch.Tensor(ground_truth_edge_list)\n",
    "# Also include a random baseline\n",
    "random_attr = torch.rand(ground_truth_edge_list.shape)\n",
    "random_attr_roc_auc = roc_auc_score(ground_truth_edge_list, random_attr)\n",
    "attattribute_roc_auc = roc_auc_score(ground_truth_edge_list, attattribute_list)\n",
    "attattribute_sim_roc_auc = roc_auc_score(ground_truth_edge_list, attattribute_sim_list)\n",
    "avgatt_roc_auc = roc_auc_score(ground_truth_edge_list, avgatt_list)\n",
    "\n",
    "# Print results\n",
    "# print(\"ROC AUC for ATTATTRIBUTE / ATTATTRIBUTE_SIM / AVGATT / RANDOM\")\n",
    "# print(f\"{attattribute_roc_auc:.4f}, {attattribute_sim_roc_auc:.4f}, {avgatt_roc_auc:.4f}, {random_attr_roc_auc:.4f}\")"
   ]
  },
  {
   "cell_type": "markdown",
   "metadata": {},
   "source": [
    "GAT 3 layer 8 head"
   ]
  },
  {
   "cell_type": "code",
   "execution_count": 70,
   "metadata": {},
   "outputs": [],
   "source": [
    "import torch\n",
    "import networkx as nx\n",
    "from torch_geometric.utils import to_networkx, k_hop_subgraph, remove_self_loops, add_self_loops\n",
    "from torch_geometric.data import Data\n",
    "\n",
    "dataset_name = 'Infection_50003d_sp'\n",
    "model_name = f'GAT_infection_3L8H_sp'\n",
    "\n",
    "# Load the data\n",
    "data = torch.load(f'/workspace/{dataset_name}.pt',map_location ='cpu')\n",
    "# Load the model\n",
    "model = torch.load(f'/workspace/{model_name}.pt',map_location ='cpu')\n",
    "model.eval()\n",
    "# Get the attention weights\n",
    "with torch.no_grad():\n",
    "    out = model(data.x, data.edge_index, return_att=True)\n",
    "    att = model.att \n",
    "    # att = average_attention_heads(att)\n",
    "    # model.att = att\n",
    "\n",
    "# data.edge_index = add_self_loops(remove_self_loops(data.edge_index)[0])[0]\n",
    "# G = to_networkx(data, to_undirected=True)   "
   ]
  },
  {
   "cell_type": "code",
   "execution_count": 71,
   "metadata": {},
   "outputs": [],
   "source": [
    "attattribute_list, attattribute_sim_list, avgatt_list = [], [], []\n",
    "ground_truth_edge_list = []\n",
    "\n",
    "for idx, target_node in enumerate(data.unique_solution_nodes):\n",
    "    path_expl = data.unique_solution_explanations[idx]\n",
    "    target_node_results = experiment_on_target_node(\n",
    "        target_idx=target_node,\n",
    "        data=data,\n",
    "        model=model,\n",
    "        path_expl=path_expl,\n",
    "        self_loops=True,\n",
    "        multiheads=True,\n",
    "    )\n",
    "    attattribute_list_curr = target_node_results[0]\n",
    "    attattribute_sim_list_curr = target_node_results[1]\n",
    "    avgatt_list_curr = target_node_results[2]\n",
    "    ground_truth_edge_list_curr = target_node_results[3]\n",
    "\n",
    "    attattribute_list.extend(attattribute_list_curr)\n",
    "    attattribute_sim_list.extend(attattribute_sim_list_curr)\n",
    "    avgatt_list.extend(avgatt_list_curr)\n",
    "    ground_truth_edge_list.extend(ground_truth_edge_list_curr)\n",
    "\n",
    "torch.save(\n",
    "    torch.Tensor(attattribute_list),\n",
    "    f\"/workspace/{dataset_name}_{model_name}_attattribute_list_Accuracy_test.pt\",\n",
    ")\n",
    "torch.save(\n",
    "    torch.Tensor(attattribute_sim_list),\n",
    "    f\"/workspace/{dataset_name}_{model_name}_attattribute_sim_list_Accuracy_test.pt\",\n",
    ")\n",
    "torch.save(\n",
    "    torch.Tensor(avgatt_list), f\"/workspace/{dataset_name}_{model_name}_avgatt_list_Accuracy_test.pt\"\n",
    ")\n",
    "torch.save(\n",
    "    torch.Tensor(ground_truth_edge_list),\n",
    "    f\"/workspace/{dataset_name}_{model_name}_ground_truth_edge_list_Accuracy_test.pt\",\n",
    ")"
   ]
  },
  {
   "cell_type": "code",
   "execution_count": 72,
   "metadata": {},
   "outputs": [],
   "source": [
    "# Load experiments from local\n",
    "\n",
    "attattribute_list = torch.load(\n",
    "    f\"/workspace/{dataset_name}_{model_name}_attattribute_list_Accuracy_test.pt\"\n",
    ")\n",
    "attattribute_sim_list = torch.load(\n",
    "    f\"/workspace/{dataset_name}_{model_name}_attattribute_sim_list_Accuracy_test.pt\"\n",
    ")\n",
    "avgatt_list = torch.load(f\"/workspace/{dataset_name}_{model_name}_avgatt_list_Accuracy_test.pt\")\n",
    "ground_truth_edge_list = torch.load(\n",
    "    f\"/workspace/{dataset_name}_{model_name}_ground_truth_edge_list_Accuracy_test.pt\"\n",
    ")"
   ]
  },
  {
   "cell_type": "code",
   "execution_count": 73,
   "metadata": {},
   "outputs": [
    {
     "name": "stdout",
     "output_type": "stream",
     "text": [
      "ROC AUC for ATTATTRIBUTE / ATTATTRIBUTE_SIM / AVGATT / RANDOM\n",
      "0.9305, 0.9471, 0.8927, 0.5043\n"
     ]
    }
   ],
   "source": [
    "from scipy.stats import kendalltau, spearmanr, pearsonr\n",
    "from sklearn.metrics import roc_auc_score\n",
    "\n",
    "ground_truth_edge_list = torch.Tensor(ground_truth_edge_list)\n",
    "# Also include a random baseline\n",
    "random_attr = torch.rand(ground_truth_edge_list.shape)\n",
    "random_attr_roc_auc = roc_auc_score(ground_truth_edge_list, random_attr)\n",
    "attattribute_roc_auc = roc_auc_score(ground_truth_edge_list, attattribute_list)\n",
    "attattribute_sim_roc_auc = roc_auc_score(ground_truth_edge_list, attattribute_sim_list)\n",
    "avgatt_roc_auc = roc_auc_score(ground_truth_edge_list, avgatt_list)\n",
    "\n",
    "# Print results\n",
    "print(\"ROC AUC for ATTATTRIBUTE / ATTATTRIBUTE_SIM / AVGATT / RANDOM\")\n",
    "print(f\"{attattribute_roc_auc:.4f}, {attattribute_sim_roc_auc:.4f}, {avgatt_roc_auc:.4f}, {random_attr_roc_auc:.4f}\")"
   ]
  },
  {
   "cell_type": "code",
   "execution_count": 4,
   "metadata": {},
   "outputs": [],
   "source": [
    "import torch\n",
    "import networkx as nx\n",
    "from torch_geometric.utils import to_networkx, k_hop_subgraph, remove_self_loops, add_self_loops\n",
    "from torch_geometric.data import Data\n",
    "\n",
    "dataset_name = 'Infection_50003d_sp'\n",
    "model_name = f'GAT_infection_3L1H_sp'\n",
    "\n",
    "# Load the data\n",
    "data = torch.load(f'/workspace/{dataset_name}.pt',map_location ='cpu')\n",
    "# Load the model\n",
    "model = torch.load(f'/workspace/{model_name}.pt',map_location ='cpu')\n",
    "model.eval()\n",
    "# Get the attention weights\n",
    "with torch.no_grad():\n",
    "    out = model(data.x, data.edge_index, return_att=True)\n",
    "    att = model.att \n",
    "    # att = average_attention_heads(att)\n",
    "    # model.att = att"
   ]
  },
  {
   "cell_type": "code",
   "execution_count": 5,
   "metadata": {},
   "outputs": [],
   "source": [
    "def return_all_ground_truth_edges(unique_solution_explanations):\n",
    "    edge_mask = torch.zeros_like(data.edge_index[0], dtype=torch.bool)\n",
    "    all_ground_truth_edges = set()\n",
    "    for expl_path in data.unique_solution_explanations:\n",
    "        for curr_idx in range(len(expl_path)-1):\n",
    "            all_ground_truth_edges.add((expl_path[curr_idx], expl_path[curr_idx+1]))\n",
    "\n",
    "    for idx, curr_edge in enumerate(data.edge_index.t()):\n",
    "        if (curr_edge[0].item(), curr_edge[1].item()) in all_ground_truth_edges:\n",
    "            edge_mask[idx] = True\n",
    "\n",
    "    return edge_mask"
   ]
  },
  {
   "cell_type": "code",
   "execution_count": 6,
   "metadata": {},
   "outputs": [],
   "source": [
    "data.edge_mask = return_all_ground_truth_edges(data.unique_solution_explanations)"
   ]
  },
  {
   "cell_type": "code",
   "execution_count": 35,
   "metadata": {},
   "outputs": [],
   "source": [
    "from tqdm import tqdm\n",
    "from torch_geometric.explain import Explainer, GNNExplainer\n",
    "\n",
    "explainer = Explainer(\n",
    "    model=model,\n",
    "    algorithm=GNNExplainer(epochs=50),\n",
    "    explanation_type='phenomenon',\n",
    "    node_mask_type='object',\n",
    "    edge_mask_type='object',\n",
    "    model_config=dict(\n",
    "        mode='multiclass_classification',\n",
    "        task_level='node',\n",
    "        return_type='raw',\n",
    "    ),\n",
    ")\n",
    "\n"
   ]
  },
  {
   "cell_type": "code",
   "execution_count": 37,
   "metadata": {},
   "outputs": [
    {
     "name": "stderr",
     "output_type": "stream",
     "text": [
      "                                                                  "
     ]
    },
    {
     "name": "stdout",
     "output_type": "stream",
     "text": [
      "Mean ROC AUC (explanation type phenomenon): 0.4972\n"
     ]
    },
    {
     "name": "stderr",
     "output_type": "stream",
     "text": [
      "\r"
     ]
    }
   ],
   "source": [
    "from sklearn.metrics import roc_auc_score\n",
    "# Explanation ROC AUC over all test nodes:\n",
    "targets, preds = [], []\n",
    "node_indices = range(300, 700)\n",
    "for node_index in tqdm(node_indices, leave=False, desc='Train Explainer'):\n",
    "    target = data.y\n",
    "    explanation = explainer(data.x, data.edge_index, index=node_index,\n",
    "                            target=target)\n",
    "\n",
    "    _, _, _, hard_edge_mask = k_hop_subgraph(node_index, num_hops=3,\n",
    "                                            edge_index=data.edge_index)\n",
    "\n",
    "    targets.append(data.edge_mask[hard_edge_mask].cpu())\n",
    "    preds.append(explanation.edge_mask[hard_edge_mask].cpu())\n",
    "\n",
    "auc = roc_auc_score(torch.cat(targets), torch.cat(preds))\n",
    "print(f'Mean ROC AUC (explanation type phenomenon): {auc:.4f}')"
   ]
  },
  {
   "cell_type": "code",
   "execution_count": 39,
   "metadata": {},
   "outputs": [
    {
     "data": {
      "text/plain": [
       "0.4971986745517879"
      ]
     },
     "execution_count": 39,
     "metadata": {},
     "output_type": "execute_result"
    }
   ],
   "source": [
    "auc"
   ]
  },
  {
   "cell_type": "code",
   "execution_count": 11,
   "metadata": {},
   "outputs": [
    {
     "name": "stderr",
     "output_type": "stream",
     "text": [
      "                                                                   "
     ]
    },
    {
     "name": "stdout",
     "output_type": "stream",
     "text": [
      "Mean ROC AUC (explanation type phenomenon): 0.7198\n"
     ]
    },
    {
     "name": "stderr",
     "output_type": "stream",
     "text": [
      "\r"
     ]
    }
   ],
   "source": [
    "from tqdm import tqdm\n",
    "from torch_geometric.explain import Explainer, PGExplainer\n",
    "\n",
    "explainer = Explainer(\n",
    "    model=model,\n",
    "    algorithm=PGExplainer(epochs=30, lr=0.003),\n",
    "    explanation_type='phenomenon',\n",
    "    # node_mask_type='attributes',\n",
    "    edge_mask_type='object',\n",
    "    model_config=dict(\n",
    "        mode='multiclass_classification',\n",
    "        task_level='node',\n",
    "        return_type='raw',\n",
    "    ),\n",
    ")\n",
    "\n",
    "for epoch in range(30):\n",
    "    for index in range(300, 700):  # Indices to train against.\n",
    "        loss = explainer.algorithm.train(epoch, model, data.x, data.edge_index,\n",
    "                                        target=target, index=index)\n",
    "        \n",
    "# Explanation ROC AUC over all test nodes:\n",
    "targets, preds = [], []\n",
    "node_indices = range(300, 700)\n",
    "for node_index in tqdm(node_indices, leave=False, desc='Train Explainer'):\n",
    "    target = data.y\n",
    "    explanation = explainer(data.x, data.edge_index, index=node_index,\n",
    "                            target=target)\n",
    "\n",
    "    _, _, _, hard_edge_mask = k_hop_subgraph(node_index, num_hops=3,\n",
    "                                            edge_index=data.edge_index)\n",
    "\n",
    "    targets.append(data.edge_mask[hard_edge_mask].cpu())\n",
    "    preds.append(explanation.edge_mask[hard_edge_mask].cpu())\n",
    "\n",
    "auc_pgexpl = roc_auc_score(torch.cat(targets), torch.cat(preds))\n",
    "print(f'Mean ROC AUC (explanation type phenomenon): {auc_pgexpl:.4f}')"
   ]
  },
  {
   "cell_type": "code",
   "execution_count": 12,
   "metadata": {},
   "outputs": [
    {
     "data": {
      "text/plain": [
       "0.7197579851612776"
      ]
     },
     "execution_count": 12,
     "metadata": {},
     "output_type": "execute_result"
    }
   ],
   "source": [
    "auc_pgexpl"
   ]
  },
  {
   "cell_type": "code",
   "execution_count": null,
   "metadata": {},
   "outputs": [],
   "source": []
  }
 ],
 "metadata": {
  "kernelspec": {
   "display_name": "Python 3",
   "language": "python",
   "name": "python3"
  },
  "language_info": {
   "codemirror_mode": {
    "name": "ipython",
    "version": 3
   },
   "file_extension": ".py",
   "mimetype": "text/x-python",
   "name": "python",
   "nbconvert_exporter": "python",
   "pygments_lexer": "ipython3",
   "version": "3.10.12"
  },
  "orig_nbformat": 4
 },
 "nbformat": 4,
 "nbformat_minor": 2
}
