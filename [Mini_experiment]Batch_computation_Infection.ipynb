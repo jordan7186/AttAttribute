{
 "cells": [
  {
   "cell_type": "code",
   "execution_count": 1,
   "metadata": {},
   "outputs": [],
   "source": [
    "dataset_name = \"infection\""
   ]
  },
  {
   "cell_type": "code",
   "execution_count": 2,
   "metadata": {},
   "outputs": [],
   "source": [
    "# Import the utility functions\n",
    "import torch\n",
    "from src.experiment_utils import FaithfulnessExperiment, FaithfulnessExperimentAnalysis\n",
    "\n",
    "device = torch.device(\"cpu\")\n",
    "dataset_folder = \"/workspace/Datasets\"\n",
    "model_folder = \"/workspace/Models\"\n",
    "config = \"2L1H\"\n",
    "\n",
    "# Load the network data locally (for reproduction)\n",
    "data = torch.load(f\"{dataset_folder}/Infection_50002d_sp.pt\").to(device)\n",
    "# Load model as a whole\n",
    "model = torch.load(f\"{model_folder}/GAT_{dataset_name}_{config}_sp.pt\").to(device)\n",
    "model.eval()\n",
    "\n",
    "with torch.no_grad():\n",
    "    _  = model(data.x, data.edge_index, return_att = True)\n",
    "    att = list(model.att)"
   ]
  },
  {
   "cell_type": "code",
   "execution_count": 22,
   "metadata": {},
   "outputs": [],
   "source": [
    "att_0 = torch.zeros((data.num_nodes, data.num_nodes))\n",
    "att_0[att[0][0][1], att[0][0][0]] = att[0][1].squeeze()\n",
    "\n",
    "att_1 = torch.zeros((data.num_nodes, data.num_nodes))\n",
    "att_1[att[1][0][1], att[1][0][0]] = att[1][1].squeeze()"
   ]
  },
  {
   "cell_type": "code",
   "execution_count": 24,
   "metadata": {},
   "outputs": [],
   "source": [
    "target_node = 3"
   ]
  },
  {
   "cell_type": "code",
   "execution_count": 25,
   "metadata": {},
   "outputs": [],
   "source": [
    "select_matrix = torch.zeros_like(att_0)\n",
    "select_matrix[target_node, :] = 1"
   ]
  },
  {
   "cell_type": "code",
   "execution_count": 29,
   "metadata": {},
   "outputs": [],
   "source": [
    "result_2L1H = (att_1)[target_node, :].expand_as(att_1).t() * att_0 +\\\n",
    "    select_matrix * att_1"
   ]
  },
  {
   "cell_type": "code",
   "execution_count": 2,
   "metadata": {},
   "outputs": [],
   "source": [
    "import torch\n",
    "from src.experiment_utils import FaithfulnessExperiment, FaithfulnessExperimentAnalysis\n",
    "\n",
    "device = torch.device(\"cpu\")\n",
    "dataset_folder = \"/workspace/Datasets\"\n",
    "model_folder = \"/workspace/Models\"\n",
    "config = \"3L1H\"\n",
    "\n",
    "# Load the network data locally (for reproduction)\n",
    "data = torch.load(f\"{dataset_folder}/Infection_50003d_sp.pt\").to(device)\n",
    "# Load model as a whole\n",
    "model = torch.load(f\"{model_folder}/GAT_{dataset_name}_{config}_sp.pt\").to(device)\n",
    "model.eval()\n",
    "\n",
    "with torch.no_grad():\n",
    "    _  = model(data.x, data.edge_index, return_att = True)\n",
    "    att = list(model.att)"
   ]
  },
  {
   "cell_type": "code",
   "execution_count": 3,
   "metadata": {},
   "outputs": [],
   "source": [
    "att_0 = torch.zeros((data.num_nodes, data.num_nodes))\n",
    "att_0[att[0][0][1], att[0][0][0]] = att[0][1].squeeze()\n",
    "\n",
    "att_1 = torch.zeros((data.num_nodes, data.num_nodes))\n",
    "att_1[att[1][0][1], att[1][0][0]] = att[1][1].squeeze()\n",
    "\n",
    "att_2 = torch.zeros((data.num_nodes, data.num_nodes))\n",
    "att_2[att[2][0][1], att[2][0][0]] = att[2][1].squeeze()"
   ]
  },
  {
   "cell_type": "code",
   "execution_count": 4,
   "metadata": {},
   "outputs": [
    {
     "name": "stdout",
     "output_type": "stream",
     "text": [
      "Target: 8\n"
     ]
    }
   ],
   "source": [
    "target_node = data.unique_solution_nodes[0]\n",
    "print(f\"Target: {target_node}\")"
   ]
  },
  {
   "cell_type": "code",
   "execution_count": 5,
   "metadata": {},
   "outputs": [],
   "source": [
    "select_matrix = torch.zeros_like(att_0)\n",
    "select_matrix[target_node, :] = 1"
   ]
  },
  {
   "cell_type": "code",
   "execution_count": 6,
   "metadata": {},
   "outputs": [],
   "source": [
    "result_3L1H = (att_2 @ att_1)[target_node, :].expand_as(att_0).t() * att_0 +\\\n",
    "    (att_2)[target_node, :].expand_as(att_0).t() * att_1 +\\\n",
    "    select_matrix * att_2"
   ]
  },
  {
   "cell_type": "markdown",
   "metadata": {},
   "source": [
    "Now we need a sanity check."
   ]
  },
  {
   "cell_type": "code",
   "execution_count": 108,
   "metadata": {},
   "outputs": [
    {
     "name": "stdout",
     "output_type": "stream",
     "text": [
      "Target nodes set...\n",
      "Generating edge lists within 3 hops of target nodes...\n",
      "...Done\n"
     ]
    }
   ],
   "source": [
    "experiment_artifact_folder = \"/workspace/Experimental_Artifacts\"\n",
    "\n",
    "# load the results\n",
    "prev_result = torch.load(f\"{experiment_artifact_folder}/Faithfulness_GAT_{dataset_name}_{config}_Attributions.pt\")\n",
    "\n",
    "# Get edge lists\n",
    "faithfulness_experiment = FaithfulnessExperiment(\n",
    "    model = model,\n",
    "    data = data,\n",
    "    device = device,\n",
    "    )\n",
    "\n",
    "faithfulness_experiment.set_target_nodes(\n",
    "    data.unique_solution_nodes\n",
    ")\n",
    "\n",
    "att_matrix_dict, correction_matrix_dict = faithfulness_experiment._prep_to_get_attattribute()\n",
    "att_matrix_dict_sim, correction_matrix_dict_sim = faithfulness_experiment._prep_to_get_attattribute_sim()"
   ]
  },
  {
   "cell_type": "code",
   "execution_count": 140,
   "metadata": {},
   "outputs": [],
   "source": [
    "@torch.no_grad()\n",
    "def generate_att_dict(model, data, sparse: bool = True):\n",
    "    \"\"\"\n",
    "    Generates a dictionary of attention matrices from a model.\n",
    "    \"\"\"\n",
    "    _ = model(data.x, data.edge_index, return_att=True)\n",
    "    num_nodes = data.num_nodes\n",
    "    att = model.att\n",
    "    att_matrix_dict = {}\n",
    "    for idx, att_info in enumerate(att):\n",
    "        if sparse:\n",
    "            att_matrix_dict[idx] = torch.sparse_coo_tensor(att_info[0], \n",
    "                                                        att_info[1].mean(dim=1).squeeze(), \n",
    "                                                        size=(num_nodes, num_nodes)).t()\n",
    "        else:\n",
    "            att_matrix_dict[idx] = torch.zeros((num_nodes, num_nodes))\n",
    "            # Already transposed\n",
    "            att_matrix_dict[idx][att_info[0][1], att_info[0][0]] = att_info[1].mean(dim=1).squeeze()\n",
    "    return att_matrix_dict\n",
    "\n",
    "@torch.no_grad()\n",
    "def generate_att_dict_sim(model, data, sparse: bool = True):    \n",
    "    \"\"\"\n",
    "    Generates a dictionary of attention matrices from a model.\n",
    "    \"\"\"\n",
    "    _ = model(data.x, data.edge_index, return_att=True)\n",
    "    num_nodes = data.num_nodes\n",
    "    att = model.att\n",
    "    att_matrix_dict_sim = {}\n",
    "    for idx, att_info in enumerate(att):\n",
    "        if sparse:\n",
    "            att_matrix_dict_sim[idx] = torch.sparse_coo_tensor(att_info[0], \n",
    "                                                        torch.ones_like(att_info[1].mean(dim=1).squeeze()), \n",
    "                                                        size=(num_nodes, num_nodes)).t()\n",
    "        else:\n",
    "            att_matrix_dict_sim[idx] = torch.zeros((num_nodes, num_nodes))\n",
    "            # Already transposed\n",
    "            att_matrix_dict_sim[idx][att_info[0][1], att_info[0][0]] = torch.ones_like(att_info[1].mean(dim=1).squeeze())\n",
    "    return att_matrix_dict_sim\n",
    "\n",
    "def _prep_to_get_attattribute(sparse: bool = False, num_hops: int = 3):\n",
    "    att_matrix_dict = generate_att_dict(model=model, data=data, sparse=False)\n",
    "    if num_hops == 3:\n",
    "        correction_matrix_dict = {}\n",
    "        if sparse:\n",
    "            correction_matrix_dict[0] = torch.sparse.mm(att_matrix_dict[2], att_matrix_dict[1])\n",
    "        else:\n",
    "            correction_matrix_dict[0] = torch.mm(att_matrix_dict[2], att_matrix_dict[1])\n",
    "    else:\n",
    "        correction_matrix_dict = None\n",
    "        \n",
    "    return att_matrix_dict, correction_matrix_dict\n",
    "\n",
    "def _prep_to_get_attattribute_sim(sparse: bool = False, num_hops: int = 3):\n",
    "    att_matrix_dict_sim = generate_att_dict_sim(model=model, data=data, sparse=False)\n",
    "    if num_hops == 3:\n",
    "        correction_matrix_dict_sim = {}\n",
    "        if sparse:\n",
    "            correction_matrix_dict_sim[0] = torch.sparse.mm(att_matrix_dict_sim[2], att_matrix_dict_sim[1])\n",
    "        else:\n",
    "            correction_matrix_dict_sim[0] = torch.mm(att_matrix_dict_sim[2], att_matrix_dict_sim[1])\n",
    "    else:\n",
    "        correction_matrix_dict_sim = None\n",
    "        \n",
    "    return att_matrix_dict_sim, correction_matrix_dict_sim"
   ]
  },
  {
   "cell_type": "code",
   "execution_count": 141,
   "metadata": {},
   "outputs": [],
   "source": [
    "att_matrix_dict, correction_matrix_dict = _prep_to_get_attattribute()\n",
    "att_matrix_dict_sim, correction_matrix_dict_sim = _prep_to_get_attattribute_sim()"
   ]
  },
  {
   "cell_type": "code",
   "execution_count": 142,
   "metadata": {},
   "outputs": [],
   "source": [
    "def attattribute_batch(ref_node,\n",
    "                att_matrix_dict, \n",
    "                correction_matrix_dict = None) -> torch.Tensor:\n",
    "    # Get the number of hops\n",
    "    num_of_hops = len(att_matrix_dict)\n",
    "    \n",
    "    select_matrix = torch.zeros_like(att_matrix_dict[0])\n",
    "    select_matrix[ref_node, :] = 1\n",
    "    \n",
    "    if num_of_hops == 1:\n",
    "        result_matrix = select_matrix * att_matrix_dict[0]\n",
    "    elif num_of_hops == 2:\n",
    "        result_matrix = att_matrix_dict[1][ref_node, :].expand_as(att_matrix_dict[0]).t() * att_matrix_dict[0] +\\\n",
    "                        select_matrix * att_matrix_dict[1]\n",
    "    elif num_of_hops == 3:\n",
    "        result_matrix = correction_matrix_dict[0][ref_node, :].expand_as(att_matrix_dict[0]).t() * att_matrix_dict[0] +\\\n",
    "                        att_matrix_dict[2][ref_node, :].expand_as(att_matrix_dict[0]).t() * att_matrix_dict[1] +\\\n",
    "                        select_matrix * att_matrix_dict[2]\n",
    "    else:\n",
    "        raise NotImplementedError(\"This function only supports up to 3-hop attention.\")\n",
    "    \n",
    "    return result_matrix\n",
    "\n",
    "def attattribute_sim_batch(ref_node: int,\n",
    "                att_matrix_dict, \n",
    "                att_matrix_dict_sim, \n",
    "                correction_matrix_dict = None) -> torch.Tensor:\n",
    "    # Get the number of hops\n",
    "    num_of_hops = len(att_matrix_dict)\n",
    "    \n",
    "    select_matrix = torch.zeros_like(att_matrix_dict[0])\n",
    "    select_matrix[ref_node, :] = 1\n",
    "    \n",
    "    if num_of_hops == 1:\n",
    "        result_matrix = select_matrix * att_matrix_dict[0]\n",
    "    elif num_of_hops == 2:\n",
    "        result_matrix = att_matrix_dict_sim[1][ref_node, :].expand_as(att_matrix_dict[0]).t() * att_matrix_dict[0] +\\\n",
    "                        select_matrix * att_matrix_dict[1]\n",
    "    elif num_of_hops == 3:\n",
    "        result_matrix = correction_matrix_dict[0][ref_node, :].expand_as(att_matrix_dict[0]).t() * att_matrix_dict[0] +\\\n",
    "                        att_matrix_dict_sim[2][ref_node, :].expand_as(att_matrix_dict[0]).t() * att_matrix_dict[1] +\\\n",
    "                        select_matrix * att_matrix_dict[2]\n",
    "    else:\n",
    "        raise NotImplementedError(\"This function only supports up to 3-hop attention.\")\n",
    "    \n",
    "    return result_matrix"
   ]
  },
  {
   "cell_type": "code",
   "execution_count": 143,
   "metadata": {},
   "outputs": [
    {
     "data": {
      "text/plain": [
       "tensor([[0.0000, 0.0000, 0.0000,  ..., 0.0000, 0.0000, 0.0000],\n",
       "        [0.0000, 0.4815, 0.0000,  ..., 0.0000, 0.0000, 0.0000],\n",
       "        [0.0000, 0.0000, 0.0000,  ..., 0.0000, 0.0000, 0.0000],\n",
       "        ...,\n",
       "        [0.0000, 0.0000, 0.0000,  ..., 0.0000, 0.0000, 0.0000],\n",
       "        [0.0000, 0.0000, 0.0000,  ..., 0.0000, 0.0000, 0.0000],\n",
       "        [0.0000, 0.0000, 0.0000,  ..., 0.0000, 0.0000, 0.0000]])"
      ]
     },
     "execution_count": 143,
     "metadata": {},
     "output_type": "execute_result"
    }
   ],
   "source": [
    "attattribute_batch(ref_node=1,\n",
    "                att_matrix_dict=att_matrix_dict,\n",
    "                correction_matrix_dict=correction_matrix_dict)"
   ]
  },
  {
   "cell_type": "code",
   "execution_count": 144,
   "metadata": {},
   "outputs": [
    {
     "data": {
      "text/plain": [
       "tensor([[0., 0., 0.,  ..., 0., 0., 0.],\n",
       "        [0., 1., 0.,  ..., 0., 0., 0.],\n",
       "        [0., 0., 0.,  ..., 0., 0., 0.],\n",
       "        ...,\n",
       "        [0., 0., 0.,  ..., 0., 0., 0.],\n",
       "        [0., 0., 0.,  ..., 0., 0., 0.],\n",
       "        [0., 0., 0.,  ..., 0., 0., 0.]])"
      ]
     },
     "execution_count": 144,
     "metadata": {},
     "output_type": "execute_result"
    }
   ],
   "source": [
    "attattribute_sim_batch(ref_node=1,\n",
    "                att_matrix_dict=att_matrix_dict,\n",
    "                att_matrix_dict_sim=att_matrix_dict_sim,\n",
    "                correction_matrix_dict=correction_matrix_dict_sim)"
   ]
  },
  {
   "cell_type": "code",
   "execution_count": 8,
   "metadata": {},
   "outputs": [],
   "source": [
    "edge_lists = faithfulness_experiment.edge_lists_dict"
   ]
  },
  {
   "cell_type": "code",
   "execution_count": 9,
   "metadata": {},
   "outputs": [],
   "source": [
    "idx = 50"
   ]
  },
  {
   "cell_type": "code",
   "execution_count": 10,
   "metadata": {},
   "outputs": [
    {
     "data": {
      "text/plain": [
       "0.1869354099035263"
      ]
     },
     "execution_count": 10,
     "metadata": {},
     "output_type": "execute_result"
    }
   ],
   "source": [
    "from src.attention_analysis_utils import attattribute\n",
    "\n",
    "attattribute(target_edge=edge_lists[target_node][idx],\n",
    "            ref_node=target_node,   \n",
    "            att_matrix_dict=att_matrix_dict,\n",
    "            correction_matrix_dict=correction_matrix_dict)"
   ]
  },
  {
   "cell_type": "code",
   "execution_count": 11,
   "metadata": {},
   "outputs": [
    {
     "data": {
      "text/plain": [
       "0.1869354099035263"
      ]
     },
     "execution_count": 11,
     "metadata": {},
     "output_type": "execute_result"
    }
   ],
   "source": [
    "result_3L1H[edge_lists[target_node][idx][1], edge_lists[target_node][idx][0]].item()"
   ]
  },
  {
   "cell_type": "code",
   "execution_count": 12,
   "metadata": {},
   "outputs": [],
   "source": [
    "result_list1 = []\n",
    "result_list2 = []\n",
    "\n",
    "for edge in edge_lists[target_node]:\n",
    "    result_list1.append(attattribute(target_edge=edge,\n",
    "            ref_node=target_node,   \n",
    "            att_matrix_dict=att_matrix_dict,\n",
    "            correction_matrix_dict=correction_matrix_dict))\n",
    "    result_list2.append(result_3L1H[edge[1], edge[0]].item())"
   ]
  },
  {
   "cell_type": "code",
   "execution_count": 13,
   "metadata": {},
   "outputs": [
    {
     "data": {
      "text/plain": [
       "True"
      ]
     },
     "execution_count": 13,
     "metadata": {},
     "output_type": "execute_result"
    }
   ],
   "source": [
    "result_list1 == result_list2"
   ]
  },
  {
   "cell_type": "markdown",
   "metadata": {},
   "source": [
    "Runtime analysis"
   ]
  },
  {
   "cell_type": "code",
   "execution_count": 14,
   "metadata": {},
   "outputs": [],
   "source": [
    "def element_wise_calculation(edge_lists, target_node_list, att_matrix_dict, correction_matrix_dict):\n",
    "    result_list = []\n",
    "    for target_node in target_node_list:\n",
    "        for edge in edge_lists[target_node]:\n",
    "            result_list.append(attattribute(target_edge=edge,\n",
    "                    ref_node=target_node,   \n",
    "                    att_matrix_dict=att_matrix_dict,\n",
    "                    correction_matrix_dict=correction_matrix_dict))\n",
    "    return result_list\n",
    "\n",
    "def matrix_calculation(edge_lists, target_node_list):\n",
    "    result_list = []\n",
    "    for target_node in target_node_list:\n",
    "        for edge in edge_lists[target_node]:\n",
    "            result_list.append(result_3L1H[edge[1], edge[0]].item())\n",
    "    return result_list"
   ]
  },
  {
   "cell_type": "markdown",
   "metadata": {},
   "source": [
    "Time: Calculation of full experiment"
   ]
  },
  {
   "cell_type": "code",
   "execution_count": 15,
   "metadata": {},
   "outputs": [
    {
     "name": "stdout",
     "output_type": "stream",
     "text": [
      "11.6 s ± 35.9 ms per loop (mean ± std. dev. of 5 runs, 100 loops each)\n"
     ]
    }
   ],
   "source": [
    "%%timeit -n 100 -r 5\n",
    "element_wise_calculation(edge_lists, data.unique_solution_nodes, att_matrix_dict, correction_matrix_dict)"
   ]
  },
  {
   "cell_type": "code",
   "execution_count": 16,
   "metadata": {},
   "outputs": [
    {
     "name": "stdout",
     "output_type": "stream",
     "text": [
      "116 ms ± 535 µs per loop (mean ± std. dev. of 5 runs, 100 loops each)\n"
     ]
    }
   ],
   "source": [
    "%%timeit -n 100 -r 5\n",
    "matrix_calculation(edge_lists, data.unique_solution_nodes)"
   ]
  },
  {
   "cell_type": "markdown",
   "metadata": {},
   "source": [
    "Time: Calculation of single node"
   ]
  },
  {
   "cell_type": "code",
   "execution_count": 17,
   "metadata": {},
   "outputs": [
    {
     "name": "stdout",
     "output_type": "stream",
     "text": [
      "14 ms ± 56.6 µs per loop (mean ± std. dev. of 5 runs, 100 loops each)\n"
     ]
    }
   ],
   "source": [
    "%%timeit -n 100 -r 5\n",
    "element_wise_calculation(edge_lists, [data.unique_solution_nodes[0]], att_matrix_dict, correction_matrix_dict)"
   ]
  },
  {
   "cell_type": "code",
   "execution_count": 18,
   "metadata": {},
   "outputs": [
    {
     "name": "stdout",
     "output_type": "stream",
     "text": [
      "183 µs ± 9.12 µs per loop (mean ± std. dev. of 5 runs, 100 loops each)\n"
     ]
    }
   ],
   "source": [
    "%%timeit -n 100 -r 5\n",
    "matrix_calculation(edge_lists, [data.unique_solution_nodes[0]])"
   ]
  },
  {
   "cell_type": "code",
   "execution_count": 43,
   "metadata": {},
   "outputs": [],
   "source": [
    "from src.attention_analysis_utils import (\n",
    "    get_attention_raw_dict,\n",
    "    process_attention_dict,\n",
    "    get_computation_graph,\n",
    "    get_nodes_per_level_from_comp_graph_full,\n",
    "    reindex_nodes_per_level,\n",
    "    translate_comp_graph,\n",
    "    get_att_dict_per_layer,\n",
    "    get_ATTATTTRIBUTE_edge,\n",
    "    return_edges_in_k_hop,\n",
    ")\n",
    "\n",
    "from torch_geometric.utils import get_num_hops, get_num_hops, degree\n",
    "\n",
    "def get_edge_scores(\n",
    "    target_edge, comp_graph, comp_graph_new, layer_att_dict\n",
    "):\n",
    "    assert type(target_edge) == tuple, \"target_edge must be a tuple\"\n",
    "    # Get ATTATTRIBUTE & ATTATTRIBUTE_sim scores\n",
    "    attattribute, _ = get_ATTATTTRIBUTE_edge(\n",
    "        comp_graph=comp_graph,\n",
    "        comp_graph_new=comp_graph_new,\n",
    "        layer_att_dict=layer_att_dict,\n",
    "        target_edge=target_edge,\n",
    "        verbose=False,\n",
    "    )\n",
    "    return attattribute\n",
    "\n",
    "# Let's refactor tha code below as a function\n",
    "def experiment_on_target_node(\n",
    "    target_idx: int, data, model, self_loops=True\n",
    "):\n",
    "    # 1. Get the number of hops according to the model\n",
    "    num_layers = get_num_hops(model)\n",
    "    # 2. Get all edges within the target node's k-hop neighborhood\n",
    "    edge_lists = return_edges_in_k_hop(\n",
    "        data=data, target_idx=target_idx, hop=num_layers, self_loops=self_loops\n",
    "    )\n",
    "\n",
    "    # 3. For all edges in the k-hop neighborhood, we get the attribution scores\n",
    "    att_dict_raw = get_attention_raw_dict(model, data)\n",
    "    att_dict = process_attention_dict(att_dict_raw)\n",
    "    comp_graph = get_computation_graph(\n",
    "        edge_index=data.edge_index, k=num_layers, target_idx=target_idx\n",
    "    )\n",
    "    (\n",
    "        nodes_per_level_original,\n",
    "        num_nodes_per_level,\n",
    "        true_node_label,\n",
    "    ) = get_nodes_per_level_from_comp_graph_full(comp_graph=comp_graph)\n",
    "    nodes_per_level_new = reindex_nodes_per_level(\n",
    "        nodes_per_level_original, num_nodes_per_level\n",
    "    )\n",
    "    comp_graph_new = translate_comp_graph(\n",
    "        comp_graph=comp_graph,\n",
    "        nodes_per_level_new=nodes_per_level_new,\n",
    "        nodes_per_level_original=nodes_per_level_original,\n",
    "        degree=degree(data.edge_index[1]),\n",
    "    )\n",
    "    layer_att_dict = get_att_dict_per_layer(\n",
    "        comp_graph=comp_graph, comp_graph_new=comp_graph_new, att_dict=att_dict\n",
    "    )\n",
    "\n",
    "    # 4. Now, get the 1) label 2) prediction 3) prediction probability 4) entropy values of the original model\n",
    "    # Output without any masking\n",
    "    with torch.no_grad():\n",
    "        output = model(\n",
    "            x=data.x, edge_index=data.edge_index, return_att=True, mask_edge=None\n",
    "        )\n",
    "        att = model.att\n",
    "        pred = output.argmax(dim=1)[target_idx].item()  # Single integer\n",
    "        pred_prob = output[target_idx].softmax(dim=0)[pred].item()  # Single float\n",
    "        prob_vector = output[target_idx].softmax(dim=0)  # 1D vector of floats\n",
    "        entropy = -(prob_vector * prob_vector.log()).sum().item()  # Single float\n",
    "    # Get results for all edges in the k-hop neighborhood\n",
    "    attattribute_list = []\n",
    "    for current_edge in edge_lists:\n",
    "        attattribute = get_edge_scores(\n",
    "            target_edge=tuple(current_edge),\n",
    "            comp_graph=comp_graph,\n",
    "            comp_graph_new=comp_graph_new,\n",
    "            layer_att_dict=layer_att_dict,\n",
    "        )\n",
    "        attattribute_list.append(attattribute)\n",
    "\n",
    "    return attattribute_list"
   ]
  },
  {
   "cell_type": "code",
   "execution_count": 44,
   "metadata": {},
   "outputs": [],
   "source": [
    "def rooted_subtree_calculation(target_node_list, data, model):\n",
    "    for target_node in target_node_list:\n",
    "        result_list = experiment_on_target_node(target_node, data, model)\n",
    "    return result_list"
   ]
  },
  {
   "cell_type": "markdown",
   "metadata": {},
   "source": [
    "For additional reference, get the runtime of previous implementation (rooted subtree)"
   ]
  },
  {
   "cell_type": "code",
   "execution_count": 46,
   "metadata": {},
   "outputs": [
    {
     "name": "stdout",
     "output_type": "stream",
     "text": [
      "4min 46s ± 544 ms per loop (mean ± std. dev. of 5 runs, 10 loops each)\n"
     ]
    }
   ],
   "source": [
    "%%timeit -n 10 -r 5\n",
    "rooted_subtree_calculation(data.unique_solution_nodes, data, model)"
   ]
  },
  {
   "cell_type": "code",
   "execution_count": 47,
   "metadata": {},
   "outputs": [
    {
     "name": "stdout",
     "output_type": "stream",
     "text": [
      "302 ms ± 757 µs per loop (mean ± std. dev. of 5 runs, 10 loops each)\n"
     ]
    }
   ],
   "source": [
    "%%timeit -n 10 -r 5\n",
    "rooted_subtree_calculation([data.unique_solution_nodes[0]], data, model)"
   ]
  },
  {
   "cell_type": "markdown",
   "metadata": {},
   "source": [
    "#### Visualize runtime experimental results"
   ]
  },
  {
   "cell_type": "code",
   "execution_count": 89,
   "metadata": {},
   "outputs": [
    {
     "data": {
      "image/png": "[encoded data removed]",
      "text/plain": [
       "<Figure size 700x500 with 1 Axes>"
      ]
     },
     "metadata": {},
     "output_type": "display_data"
    }
   ],
   "source": [
    "import numpy as np\n",
    "import matplotlib.pyplot as plt\n",
    "\n",
    "# Experimental results, [mean, std] (all in microseconds)\n",
    "full_subtree_result = [286e6, 544e3]\n",
    "node_subtree_result = [302e3, 757]\n",
    "\n",
    "full_element_wise_result = [11.6e6, 35.9e3] # 11.6 s ± 35.9 ms per loop\n",
    "node_element_wise_result = [116e3, 535] # 116 ms ± 535 µs per loop\n",
    "\n",
    "full_matrix_result = [14e3, 56.6] # 14 ms ± 56.6 µs per loop\n",
    "node_matrix_result = [183, 9.12] # 183 µs ± 9.12 µs per loop\n",
    "\n",
    "# Plot the results as a bar chart\n",
    "# Plot mean (first number) and std (second number) in each list\n",
    "# Use colors #1e1f71 and #dc143c and #ff8c00\n",
    "# First comparison: Compare full subtree vs full element-wise vs full matrix\n",
    "# Second comparison: Compare node subtree vs node element-wise vs node matrix\n",
    "# Set y-axis in log scale\n",
    "plt.figure(figsize=(7, 5), dpi=100)\n",
    "width = 0.2\n",
    "ind = np.arange(2)\n",
    "plt.bar(ind - width, [full_subtree_result[0], node_subtree_result[0]], width, color = \"#1e1f71\")\n",
    "plt.bar(ind, [full_element_wise_result[0], node_element_wise_result[0]], width, color = \"#dc143c\")\n",
    "plt.bar(ind + width, [full_matrix_result[0], node_matrix_result[0]], width, color = \"#ff8c00\")\n",
    "\n",
    "# Display runtime per node as text on top of the bars\n",
    "plt.text(x = ind[0] - width, y = full_subtree_result[0] + 1e7, s = f\"{full_subtree_result[0]:.2e}μs\", ha = \"center\", size = 8)\n",
    "plt.text(x = ind[0], y = full_element_wise_result[0] + 1e6, s = f\"{full_element_wise_result[0]:.2e}μs\", ha = \"center\", size = 8)\n",
    "plt.text(x = ind[0] + width, y = full_matrix_result[0] + 1e3, s = f\"{full_matrix_result[0]:.2e}μs\", ha = \"center\", size = 8)\n",
    "plt.text(x = ind[1] - width, y = node_subtree_result[0] + 1e4, s = f\"{node_subtree_result[0]:.2e}μs\", ha = \"center\", size = 8)\n",
    "plt.text(x = ind[1], y = node_element_wise_result[0] + 5e3, s = f\"{node_element_wise_result[0]:.2e}μs\", ha = \"center\", size = 8)\n",
    "plt.text(x = ind[1] + width, y = node_matrix_result[0] + 1e1, s = f\"{node_matrix_result[0]:.2e}μs\", ha = \"center\", size = 8)\n",
    "\n",
    "plt.xticks([0, 1], [\"Full computation\", \"Single node\"])\n",
    "# Set legend properly\n",
    "plt.legend([\"Subtree\", \"Element-wise\", \"Matrix\"])\n",
    "plt.ylabel(\"Time (μs)\")\n",
    "plt.yscale(\"log\")\n",
    "plt.title(\"Runtime comparison between different methods (Infection dataset)\")\n",
    "plt.tight_layout()\n",
    "plt.show()"
   ]
  },
  {
   "cell_type": "code",
   "execution_count": null,
   "metadata": {},
   "outputs": [],
   "source": []
  }
 ],
 "metadata": {
  "kernelspec": {
   "display_name": "Python 3",
   "language": "python",
   "name": "python3"
  },
  "language_info": {
   "codemirror_mode": {
    "name": "ipython",
    "version": 3
   },
   "file_extension": ".py",
   "mimetype": "text/x-python",
   "name": "python",
   "nbconvert_exporter": "python",
   "pygments_lexer": "ipython3",
   "version": "3.10.12"
  }
 },
 "nbformat": 4,
 "nbformat_minor": 2
}
