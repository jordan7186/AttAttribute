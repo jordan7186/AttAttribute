{
 "cells": [
  {
   "cell_type": "code",
   "execution_count": 141,
   "metadata": {},
   "outputs": [],
   "source": [
    "def my_draw_networkx_edge_labels(\n",
    "    G,\n",
    "    pos,\n",
    "    edge_labels=None,\n",
    "    label_pos=0.5,\n",
    "    font_size=10,\n",
    "    font_color=\"k\",\n",
    "    font_family=\"sans-serif\",\n",
    "    font_weight=\"normal\",\n",
    "    alpha=None,\n",
    "    bbox=None,\n",
    "    horizontalalignment=\"center\",\n",
    "    verticalalignment=\"center\",\n",
    "    ax=None,\n",
    "    rotate=True,\n",
    "    clip_on=True,\n",
    "    rad=0\n",
    "):\n",
    "    \"\"\"Draw edge labels.\n",
    "\n",
    "    Parameters\n",
    "    ----------\n",
    "    G : graph\n",
    "        A networkx graph\n",
    "\n",
    "    pos : dictionary\n",
    "        A dictionary with nodes as keys and positions as values.\n",
    "        Positions should be sequences of length 2.\n",
    "\n",
    "    edge_labels : dictionary (default={})\n",
    "        Edge labels in a dictionary of labels keyed by edge two-tuple.\n",
    "        Only labels for the keys in the dictionary are drawn.\n",
    "\n",
    "    label_pos : float (default=0.5)\n",
    "        Position of edge label along edge (0=head, 0.5=center, 1=tail)\n",
    "\n",
    "    font_size : int (default=10)\n",
    "        Font size for text labels\n",
    "\n",
    "    font_color : string (default='k' black)\n",
    "        Font color string\n",
    "\n",
    "    font_weight : string (default='normal')\n",
    "        Font weight\n",
    "\n",
    "    font_family : string (default='sans-serif')\n",
    "        Font family\n",
    "\n",
    "    alpha : float or None (default=None)\n",
    "        The text transparency\n",
    "\n",
    "    bbox : Matplotlib bbox, optional\n",
    "        Specify text box properties (e.g. shape, color etc.) for edge labels.\n",
    "        Default is {boxstyle='round', ec=(1.0, 1.0, 1.0), fc=(1.0, 1.0, 1.0)}.\n",
    "\n",
    "    horizontalalignment : string (default='center')\n",
    "        Horizontal alignment {'center', 'right', 'left'}\n",
    "\n",
    "    verticalalignment : string (default='center')\n",
    "        Vertical alignment {'center', 'top', 'bottom', 'baseline', 'center_baseline'}\n",
    "\n",
    "    ax : Matplotlib Axes object, optional\n",
    "        Draw the graph in the specified Matplotlib axes.\n",
    "\n",
    "    rotate : bool (deafult=True)\n",
    "        Rotate edge labels to lie parallel to edges\n",
    "\n",
    "    clip_on : bool (default=True)\n",
    "        Turn on clipping of edge labels at axis boundaries\n",
    "\n",
    "    Returns\n",
    "    -------\n",
    "    dict\n",
    "        `dict` of labels keyed by edge\n",
    "\n",
    "    Examples\n",
    "    --------\n",
    "    >>> G = nx.dodecahedral_graph()\n",
    "    >>> edge_labels = nx.draw_networkx_edge_labels(G, pos=nx.spring_layout(G))\n",
    "\n",
    "    Also see the NetworkX drawing examples at\n",
    "    https://networkx.org/documentation/latest/auto_examples/index.html\n",
    "\n",
    "    See Also\n",
    "    --------\n",
    "    draw\n",
    "    draw_networkx\n",
    "    draw_networkx_nodes\n",
    "    draw_networkx_edges\n",
    "    draw_networkx_labels\n",
    "    \"\"\"\n",
    "    import matplotlib.pyplot as plt\n",
    "    import numpy as np\n",
    "\n",
    "    if ax is None:\n",
    "        ax = plt.gca()\n",
    "    if edge_labels is None:\n",
    "        labels = {(u, v): d for u, v, d in G.edges(data=True)}\n",
    "    else:\n",
    "        labels = edge_labels\n",
    "    text_items = {}\n",
    "    for (n1, n2), label in labels.items():\n",
    "        (x1, y1) = pos[n1]\n",
    "        (x2, y2) = pos[n2]\n",
    "        (x, y) = (\n",
    "            x1 * label_pos + x2 * (1.0 - label_pos),\n",
    "            y1 * label_pos + y2 * (1.0 - label_pos),\n",
    "        )\n",
    "        pos_1 = ax.transData.transform(np.array(pos[n1]))\n",
    "        pos_2 = ax.transData.transform(np.array(pos[n2]))\n",
    "        linear_mid = 0.5*pos_1 + 0.5*pos_2\n",
    "        d_pos = pos_2 - pos_1\n",
    "        rotation_matrix = np.array([(0,1), (-1,0)])\n",
    "        ctrl_1 = linear_mid + rad*rotation_matrix@d_pos\n",
    "        ctrl_mid_1 = 0.5*pos_1 + 0.5*ctrl_1\n",
    "        ctrl_mid_2 = 0.5*pos_2 + 0.5*ctrl_1\n",
    "        bezier_mid = 0.5*ctrl_mid_1 + 0.5*ctrl_mid_2\n",
    "        (x, y) = ax.transData.inverted().transform(bezier_mid)\n",
    "\n",
    "        if rotate:\n",
    "            # in degrees\n",
    "            angle = np.arctan2(y2 - y1, x2 - x1) / (2.0 * np.pi) * 360\n",
    "            # make label orientation \"right-side-up\"\n",
    "            if angle > 90:\n",
    "                angle -= 180\n",
    "            if angle < -90:\n",
    "                angle += 180\n",
    "            # transform data coordinate angle to screen coordinate angle\n",
    "            xy = np.array((x, y))\n",
    "            trans_angle = ax.transData.transform_angles(\n",
    "                np.array((angle,)), xy.reshape((1, 2))\n",
    "            )[0]\n",
    "        else:\n",
    "            trans_angle = 0.0\n",
    "        # use default box of white with white border\n",
    "        if bbox is None:\n",
    "            bbox = dict(boxstyle=\"round\", ec=(1.0, 1.0, 1.0), fc=(1.0, 1.0, 1.0))\n",
    "        if not isinstance(label, str):\n",
    "            label = str(label)  # this makes \"1\" and 1 labeled the same\n",
    "\n",
    "        t = ax.text(\n",
    "            x,\n",
    "            y,\n",
    "            label,\n",
    "            size=font_size,\n",
    "            color=font_color,\n",
    "            family=font_family,\n",
    "            weight=font_weight,\n",
    "            alpha=alpha,\n",
    "            horizontalalignment=horizontalalignment,\n",
    "            verticalalignment=verticalalignment,\n",
    "            rotation=trans_angle,\n",
    "            transform=ax.transData,\n",
    "            bbox=bbox,\n",
    "            zorder=1,\n",
    "            clip_on=clip_on,\n",
    "        )\n",
    "        text_items[(n1, n2)] = t\n",
    "\n",
    "    ax.tick_params(\n",
    "        axis=\"both\",\n",
    "        which=\"both\",\n",
    "        bottom=False,\n",
    "        left=False,\n",
    "        labelbottom=False,\n",
    "        labelleft=False,\n",
    "    )\n",
    "\n",
    "    return text_items"
   ]
  },
  {
   "cell_type": "code",
   "execution_count": 142,
   "metadata": {},
   "outputs": [
    {
     "data": {
      "image/png": "[encoded data removed]",
      "text/plain": [
       "<Figure size 640x480 with 1 Axes>"
      ]
     },
     "metadata": {},
     "output_type": "display_data"
    }
   ],
   "source": [
    "\n",
    "import networkx as nx\n",
    "import torch\n",
    "import torch_geometric\n",
    "import matplotlib.pyplot as plt\n",
    "\n",
    "# Generate a random graph\n",
    "G = nx.gnp_random_graph(4, 0.5, directed=True)\n",
    "\n",
    "# Remove self-loops\n",
    "G.remove_edges_from(nx.selfloop_edges(G))\n",
    "\n",
    "# Assign random weights to the edges\n",
    "for u, v in G.edges():\n",
    "    G[u][v]['weight'] = round(torch.rand(1).item(), 4)\n",
    "\n",
    "# Convert the graph to pytorch_geometric format\n",
    "data = torch_geometric.utils.from_networkx(G)\n",
    "\n",
    "# Visualize the graph\n",
    "pos = nx.spring_layout(G, seed=42)\n",
    "edge_colors = [G[u][v]['weight'] for u, v in G.edges()]\n",
    "nx.draw_networkx_nodes(G, pos, node_size=200, node_color='lightblue')\n",
    "nx.draw_networkx_labels(G, pos)\n",
    "\n",
    "curved_edges = [edge for edge in G.edges() if reversed(edge) in G.edges()]\n",
    "straight_edges = list(set(G.edges()) - set(curved_edges))\n",
    "nx.draw_networkx_edges(G, pos, edgelist=straight_edges)\n",
    "arc_rad = 0.25\n",
    "nx.draw_networkx_edges(G, pos, edgelist=curved_edges, connectionstyle=f'arc3, rad = {arc_rad}')\n",
    "\n",
    "edge_weights = nx.get_edge_attributes(G,'weight')\n",
    "curved_edge_labels = {edge: edge_weights[edge] for edge in curved_edges}\n",
    "straight_edge_labels = {edge: edge_weights[edge] for edge in straight_edges}\n",
    "my_draw_networkx_edge_labels(G, pos, edge_labels=curved_edge_labels,rotate=False,rad = arc_rad)\n",
    "nx.draw_networkx_edge_labels(G, pos, edge_labels=straight_edge_labels,rotate=False)\n",
    "\n",
    "\n",
    "# nx.draw(G, pos, with_labels=True, node_color='lightblue', edge_color=edge_colors, width=2, edge_cmap=plt.cm.Blues)\n",
    "# nx.draw_networkx_edge_labels(G, pos, edge_labels=nx.get_edge_attributes(G, 'weight'), font_color='red')\n",
    "plt.show()\n",
    "\n"
   ]
  },
  {
   "cell_type": "code",
   "execution_count": 192,
   "metadata": {},
   "outputs": [
    {
     "data": {
      "text/plain": [
       "(tensor([[0, 1, 1, 2, 3, 3],\n",
       "         [2, 0, 3, 3, 1, 2]]),\n",
       " tensor([0.7989, 0.4561, 0.0084, 0.7929, 0.2534, 0.2464]))"
      ]
     },
     "execution_count": 192,
     "metadata": {},
     "output_type": "execute_result"
    }
   ],
   "source": [
    "data.edge_index, data.weight"
   ]
  },
  {
   "cell_type": "code",
   "execution_count": 193,
   "metadata": {},
   "outputs": [
    {
     "name": "stdout",
     "output_type": "stream",
     "text": [
      "tensor([[0.0000, 0.4561, 0.0000, 0.0000],\n",
      "        [0.0000, 0.0000, 0.0000, 0.2534],\n",
      "        [0.7989, 0.0000, 0.0000, 0.2464],\n",
      "        [0.0000, 0.0084, 0.7929, 0.0000]])\n"
     ]
    }
   ],
   "source": [
    "# Construct adjacency matrix\n",
    "adj = torch.zeros((data.num_nodes, data.num_nodes))\n",
    "adj[data.edge_index[1], data.edge_index[0]] = data.weight\n",
    "print(adj)"
   ]
  },
  {
   "cell_type": "code",
   "execution_count": 194,
   "metadata": {},
   "outputs": [],
   "source": [
    "target_node = 3"
   ]
  },
  {
   "cell_type": "code",
   "execution_count": 195,
   "metadata": {},
   "outputs": [
    {
     "name": "stdout",
     "output_type": "stream",
     "text": [
      "Edge (2, 3): 0.9495\n",
      "Edge (3, 2): 0.1954\n",
      "Edge (3, 1): 0.0021\n",
      "Edge (0, 2): 0.6334\n",
      "Edge (1, 0): 0.2889\n"
     ]
    }
   ],
   "source": [
    "print(f\"Edge (2, 3): {0.7929 + 0.7929 * 0.2534 * 0.0084 + 0.7929 * 0.2464 * 0.7929:.4f}\")\n",
    "print(f\"Edge (3, 2): {0.2464 * 0.7929:.4f}\")\n",
    "print(f\"Edge (3, 1): {0.2534 * 0.0084:.4f}\")\n",
    "print(f\"Edge (0, 2): {0.7989 * 0.7929:.4f}\")\n",
    "print(f\"Edge (1, 0): {0.4561 * 0.7989 * 0.7929:.4f}\")"
   ]
  },
  {
   "cell_type": "code",
   "execution_count": 196,
   "metadata": {},
   "outputs": [
    {
     "name": "stdout",
     "output_type": "stream",
     "text": [
      "tensor([[0.0000, 0.0000, 0.0000, 0.1156],\n",
      "        [0.0000, 0.0021, 0.2009, 0.0000],\n",
      "        [0.0000, 0.3664, 0.1954, 0.0000],\n",
      "        [0.6334, 0.0000, 0.0000, 0.1975]])\n"
     ]
    }
   ],
   "source": [
    "adj2 = adj @ adj\n",
    "print(adj2)"
   ]
  },
  {
   "cell_type": "code",
   "execution_count": 197,
   "metadata": {},
   "outputs": [],
   "source": [
    "select_matrix = torch.zeros_like(adj)\n",
    "select_matrix[target_node, :] = 1"
   ]
  },
  {
   "cell_type": "code",
   "execution_count": 200,
   "metadata": {},
   "outputs": [],
   "source": [
    "result = adj2[target_node, :].expand_as(adj).t() * adj +\\\n",
    "    adj[target_node, :].expand_as(adj).t() * adj +\\\n",
    "    select_matrix * adj"
   ]
  },
  {
   "cell_type": "code",
   "execution_count": 202,
   "metadata": {},
   "outputs": [
    {
     "name": "stdout",
     "output_type": "stream",
     "text": [
      "Edge (2, 3): 0.9495\n",
      "Edge (3, 2): 0.1954\n",
      "Edge (3, 1): 0.0021\n",
      "Edge (0, 2): 0.6334\n",
      "Edge (1, 0): 0.2889\n"
     ]
    }
   ],
   "source": [
    "print(f\"Edge (2, 3): {result[3, 2]:.4f}\")\n",
    "print(f\"Edge (3, 2): {result[2, 3]:.4f}\")\n",
    "print(f\"Edge (3, 1): {result[1, 3]:.4f}\")\n",
    "print(f\"Edge (0, 2): {result[2, 0]:.4f}\")\n",
    "print(f\"Edge (1, 0): {result[0, 1]:.4f}\")"
   ]
  },
  {
   "cell_type": "code",
   "execution_count": null,
   "metadata": {},
   "outputs": [],
   "source": []
  }
 ],
 "metadata": {
  "kernelspec": {
   "display_name": "Python 3",
   "language": "python",
   "name": "python3"
  },
  "language_info": {
   "codemirror_mode": {
    "name": "ipython",
    "version": 3
   },
   "file_extension": ".py",
   "mimetype": "text/x-python",
   "name": "python",
   "nbconvert_exporter": "python",
   "pygments_lexer": "ipython3",
   "version": "3.10.12"
  }
 },
 "nbformat": 4,
 "nbformat_minor": 2
}
